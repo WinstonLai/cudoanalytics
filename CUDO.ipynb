{
  "nbformat": 4,
  "nbformat_minor": 0,
  "metadata": {
    "colab": {
      "name": "CUDO.ipynb",
      "version": "0.3.2",
      "provenance": [],
      "toc_visible": true,
      "include_colab_link": true
    },
    "language_info": {
      "codemirror_mode": {
        "name": "ipython",
        "version": 3
      },
      "file_extension": ".py",
      "mimetype": "text/x-python",
      "name": "python",
      "nbconvert_exporter": "python",
      "pygments_lexer": "ipython3",
      "version": "3.7.3"
    },
    "kernelspec": {
      "name": "python3",
      "display_name": "Python 3"
    },
    "accelerator": "GPU"
  },
  "cells": [
    {
      "cell_type": "markdown",
      "metadata": {
        "id": "view-in-github",
        "colab_type": "text"
      },
      "source": [
        "<a href=\"https://colab.research.google.com/github/WinstonLai/cudoanalytics/blob/master/CUDO.ipynb\" target=\"_parent\"><img src=\"https://colab.research.google.com/assets/colab-badge.svg\" alt=\"Open In Colab\"/></a>"
      ]
    },
    {
      "cell_type": "code",
      "metadata": {
        "id": "03T6jNx7GkNQ",
        "colab_type": "code",
        "outputId": "2dca2033-b9c2-4383-e25b-17bb3b3cfb0c",
        "colab": {
          "base_uri": "https://localhost:8080/",
          "height": 35
        }
      },
      "source": [
        "from google.colab import drive\n",
        "drive.mount('/content/gdrive')\n",
        "root_path = 'gdrive/My Drive/Colab Notebooks/'"
      ],
      "execution_count": 111,
      "outputs": [
        {
          "output_type": "stream",
          "text": [
            "Drive already mounted at /content/gdrive; to attempt to forcibly remount, call drive.mount(\"/content/gdrive\", force_remount=True).\n"
          ],
          "name": "stdout"
        }
      ]
    },
    {
      "cell_type": "code",
      "metadata": {
        "ExecuteTime": {
          "end_time": "2019-06-17T01:05:39.504264Z",
          "start_time": "2019-06-17T01:05:32.481843Z"
        },
        "id": "cu_viyWlC0e7",
        "colab_type": "code",
        "colab": {}
      },
      "source": [
        "import os\n",
        "import numpy as np\n",
        "import pandas as pd\n",
        "from pandas.plotting import scatter_matrix\n",
        "import seaborn as sns\n",
        "import matplotlib.pyplot as plt\n",
        "from scipy import stats"
      ],
      "execution_count": 0,
      "outputs": []
    },
    {
      "cell_type": "markdown",
      "metadata": {
        "id": "bcXl0ASIC0e_",
        "colab_type": "text"
      },
      "source": [
        "# <font color=black>【Delivery Orders】Data Preparation</font>\n",
        "***"
      ]
    },
    {
      "cell_type": "markdown",
      "metadata": {
        "id": "vtKT8xABC0fB",
        "colab_type": "text"
      },
      "source": [
        "## <font color=blue>【Delivery Orders】User Defined Functions</font>"
      ]
    },
    {
      "cell_type": "code",
      "metadata": {
        "ExecuteTime": {
          "end_time": "2019-06-17T01:05:39.512226Z",
          "start_time": "2019-06-17T01:05:39.506221Z"
        },
        "id": "kEOV2cjRC0fC",
        "colab_type": "code",
        "colab": {}
      },
      "source": [
        "# convert date time format\n",
        "def convert_to_HHMM(df, column_name):\n",
        "    df[column_name].replace({0: np.NaN}, inplace=True)\n",
        "    df[column_name] = df[column_name].apply(lambda x: pd.to_datetime(x, format='%H%M'))\n",
        "    df[column_name] = pd.to_datetime(df[column_name], format='%H:%M').dt.time\n",
        "    return df[column_name]"
      ],
      "execution_count": 0,
      "outputs": []
    },
    {
      "cell_type": "markdown",
      "metadata": {
        "id": "GzZBLoCQC0fF",
        "colab_type": "text"
      },
      "source": [
        "## <font color=green>【Delivery Orders】Data Wrangling</font>"
      ]
    },
    {
      "cell_type": "markdown",
      "metadata": {
        "id": "KRyC5s0NC0fG",
        "colab_type": "text"
      },
      "source": [
        "### <font color=green>【Delivery Orders】Jan</font>"
      ]
    },
    {
      "cell_type": "code",
      "metadata": {
        "ExecuteTime": {
          "end_time": "2019-06-17T01:05:41.032264Z",
          "start_time": "2019-06-17T01:05:39.515191Z"
        },
        "id": "ztTqxIY7C0fH",
        "colab_type": "code",
        "colab": {}
      },
      "source": [
        "# count number of files in the folder\n",
        "num_order_files_Jan = sum([len(files) for r, d, files in os.walk(root_path+'Merged_Data/Delivery_Orders/Orders_Jan')])\n",
        "\n",
        "# concatenate all delivery orders into one data frame\n",
        "orders_frames_Jan = []\n",
        "for i in range(num_order_files_Jan):\n",
        "    df_order_Jan = pd.read_excel(open(root_path+'Merged_Data/Delivery_Orders/Orders_Jan/Jan19_Delivery_Orders ({}).xlsx'.format(i+1), 'rb'), \n",
        "                                 sheet_name=2, sort=True, \n",
        "                                 converters={'Postal Code': lambda x: str(x), \n",
        "                                             'DO Ref': lambda x: str(x),\n",
        "                                            }\n",
        "                                )\n",
        "    # fill down service time value\n",
        "    df_order_Jan['Service Time (Mins)'].fillna(method='ffill', inplace=True)\n",
        "    orders_frames_Jan.append(df_order_Jan)\n",
        "df_orders_Jan = pd.concat(orders_frames_Jan, sort=False)\n",
        "\n",
        "# drop all rows where cell 'Delivery Date' is null\n",
        "df_orders_Jan = df_orders_Jan[pd.notnull(df_orders_Jan['Delivery Date'])]\n",
        "\n",
        "# drop empty columns\n",
        "df_orders_Jan.dropna(how='all', axis=1, inplace=True)\n",
        "\n",
        "# drop unnamed column\n",
        "df_orders_Jan = df_orders_Jan.drop(['Unnamed: 2'], axis=1)\n",
        "\n",
        "# add leading zero to postal code\n",
        "df_orders_Jan['Postal Code'] = df_orders_Jan['Postal Code'].apply(lambda x: '{0:0>6}'.format(x))\n",
        "\n",
        "# convert date time\n",
        "convert_to_HHMM(df_orders_Jan, 'Earliest delivery time ')\n",
        "convert_to_HHMM(df_orders_Jan, 'Latest delivery time ')\n",
        "df_orders_Jan['Delivery Date'] = df_orders_Jan['Delivery Date'].apply(lambda x: pd.to_datetime(x)).dt.date\n",
        "\n",
        "# rename column 'DO Ref'\n",
        "df_orders_Jan = df_orders_Jan.rename(columns={'DO Ref': 'DO reference'})"
      ],
      "execution_count": 0,
      "outputs": []
    },
    {
      "cell_type": "markdown",
      "metadata": {
        "id": "WnVzQh8lC0fK",
        "colab_type": "text"
      },
      "source": [
        "### <font color=green>【Delivery Orders】Feb</font>"
      ]
    },
    {
      "cell_type": "code",
      "metadata": {
        "ExecuteTime": {
          "end_time": "2019-06-17T01:05:42.228351Z",
          "start_time": "2019-06-17T01:05:41.034252Z"
        },
        "id": "Uve-sAjmC0fL",
        "colab_type": "code",
        "colab": {}
      },
      "source": [
        "# count number of files in the folder\n",
        "num_order_files_Feb = sum([len(files) for r, d, files in os.walk(root_path+'Merged_Data/Delivery_Orders/Orders_Feb')])\n",
        "\n",
        "# concatenate all delivery orders into one data frame\n",
        "orders_frames_Feb = []\n",
        "for i in range(num_order_files_Feb):\n",
        "    df_order_Feb = pd.read_excel(open(root_path+'Merged_Data/Delivery_Orders/Orders_Feb/Feb19_Delivery_Orders ({}).xlsx'.format(i+1), 'rb'), \n",
        "                                 sheet_name=2, sort=True, \n",
        "                                 converters={'Postal Code': lambda x: str(x), \n",
        "                                             'DO Ref': lambda x: str(x),\n",
        "                                            }\n",
        "                                )\n",
        "    # fill down service time value\n",
        "    df_order_Feb['Service Time (Mins)'].fillna(method='ffill', inplace=True)\n",
        "    orders_frames_Feb.append(df_order_Feb)\n",
        "df_orders_Feb = pd.concat(orders_frames_Feb, sort=False)\n",
        "\n",
        "# drop all rows where cell 'Delivery Date' is null\n",
        "df_orders_Feb = df_orders_Feb[pd.notnull(df_orders_Feb['Delivery Date'])]\n",
        "\n",
        "# drop empty columns\n",
        "df_orders_Feb.dropna(how='all', axis=1, inplace=True)\n",
        "\n",
        "# drop unnamed column\n",
        "df_orders_Feb = df_orders_Feb.drop(['Unnamed: 2'], axis=1)\n",
        "\n",
        "# add leading zero to postal code\n",
        "df_orders_Feb['Postal Code'] = df_orders_Feb['Postal Code'].apply(lambda x: '{0:0>6}'.format(x))\n",
        "\n",
        "# convert date time\n",
        "convert_to_HHMM(df_orders_Feb, 'Earliest delivery time ')\n",
        "convert_to_HHMM(df_orders_Feb, 'Latest delivery time ')\n",
        "df_orders_Feb['Delivery Date'] = df_orders_Feb['Delivery Date'].apply(lambda x: pd.to_datetime(x)).dt.date\n",
        "\n",
        "# rename column 'DO Ref'\n",
        "df_orders_Feb = df_orders_Feb.rename(columns={'DO Ref': 'DO reference'})"
      ],
      "execution_count": 0,
      "outputs": []
    },
    {
      "cell_type": "markdown",
      "metadata": {
        "id": "qy1GHCjsC0fO",
        "colab_type": "text"
      },
      "source": [
        "### <font color=green>【Delivery Orders】Mar</font>"
      ]
    },
    {
      "cell_type": "code",
      "metadata": {
        "ExecuteTime": {
          "end_time": "2019-06-17T01:05:43.906783Z",
          "start_time": "2019-06-17T01:05:42.230346Z"
        },
        "id": "6bqzkDNEC0fP",
        "colab_type": "code",
        "colab": {}
      },
      "source": [
        "# count number of files in the folder\n",
        "num_order_files_Mar = sum([len(files) for r, d, files in os.walk(root_path+'Merged_Data/Delivery_Orders/Orders_Mar')])\n",
        "\n",
        "# concatenate all delivery orders into one data frame\n",
        "orders_frames_Mar = []\n",
        "for i in range(num_order_files_Mar):\n",
        "    df_order_Mar = pd.read_excel(open(root_path+'/Merged_Data/Delivery_Orders/Orders_Mar/Mar19_Delivery_Orders ({}).xlsx'.format(i+1), 'rb'), \n",
        "                                 sheet_name='Orders', sort=True, \n",
        "                                 converters={'Postal Code': lambda x: str(x), \n",
        "                                             'Delivery Location Postal Code': lambda x: str(x), \n",
        "                                             'DO Ref': lambda x: str(x)\n",
        "                                            }\n",
        "                                )\n",
        "    # drop unwanted columns\n",
        "    if 'Pickup Location Postal Code' and 'Pickup Location Address' and 'Earliest Pickup Time' and 'Latest Pickup Time' in df_order_Mar.columns:\n",
        "        df_order_Mar = df_order_Mar.drop(['Pickup Location Postal Code', 'Pickup Location Address',\n",
        "                                          'Earliest Pickup Time', 'Latest Pickup Time'\n",
        "                                         ], axis=1)\n",
        "        \n",
        "    # rename some columns for consistency\n",
        "    if 'Delivery Location Postal Code' in df_order_Mar.columns:\n",
        "        df_order_Mar = df_order_Mar.rename(columns={'Delivery Location Postal Code': 'Postal Code'})  \n",
        "    if 'Earliest Delivery Time' in df_order_Mar.columns:\n",
        "        df_order_Mar = df_order_Mar.rename(columns={'Earliest Delivery Time': 'Earliest delivery time '})\n",
        "    if 'Latest Delivery Time' in df_order_Mar.columns:\n",
        "        df_order_Mar = df_order_Mar.rename(columns={'Latest Delivery Time': 'Latest delivery time '})\n",
        "        \n",
        "    # fill down service time value\n",
        "    df_order_Mar['Service Time (Mins)'].fillna(method='ffill', inplace=True)\n",
        "    \n",
        "    orders_frames_Mar.append(df_order_Mar)\n",
        "df_orders_Mar = pd.concat(orders_frames_Mar, sort=False)\n",
        "\n",
        "# drop all rows where cell 'Delivery Date' is null\n",
        "df_orders_Mar = df_orders_Mar[pd.notnull(df_orders_Mar['Delivery Date'])]\n",
        "\n",
        "# drop empty columns\n",
        "df_orders_Mar.dropna(how='all', axis=1, inplace=True)\n",
        "\n",
        "# add leading zero to postal code\n",
        "df_orders_Mar['Postal Code'] = df_orders_Mar['Postal Code'].apply(lambda x: '{0:0>6}'.format(x))\n",
        "\n",
        "# convert date time\n",
        "convert_to_HHMM(df_orders_Mar, 'Earliest delivery time ')\n",
        "convert_to_HHMM(df_orders_Mar, 'Latest delivery time ')\n",
        "df_orders_Mar['Delivery Date'] = df_orders_Mar['Delivery Date'].apply(lambda x: pd.to_datetime(x)).dt.date\n",
        "\n",
        "# rename column 'DO Ref'\n",
        "df_orders_Mar = df_orders_Mar.rename(columns={'DO Ref': 'DO reference'})"
      ],
      "execution_count": 0,
      "outputs": []
    },
    {
      "cell_type": "markdown",
      "metadata": {
        "id": "qnc5uieGC0fT",
        "colab_type": "text"
      },
      "source": [
        "### <font color=green>【Delivery Orders】Apr</font>"
      ]
    },
    {
      "cell_type": "code",
      "metadata": {
        "ExecuteTime": {
          "end_time": "2019-06-17T01:05:48.804985Z",
          "start_time": "2019-06-17T01:05:43.908782Z"
        },
        "id": "zkH_rdqNC0fU",
        "colab_type": "code",
        "colab": {}
      },
      "source": [
        "# count number of files in the folder\n",
        "num_order_files_Apr = sum([len(files) for r, d, files in os.walk(root_path+'/Merged_Data/Delivery_Orders/Orders_Apr')])\n",
        "\n",
        "# concatenate all delivery orders into one data frame\n",
        "orders_frames_Apr = []\n",
        "for i in range(num_order_files_Apr):\n",
        "    df_order_Apr = pd.read_excel(open(root_path+'Merged_Data/Delivery_Orders/Orders_Apr/Apr19_Delivery_Orders ({}).xlsx'.format(i+1), 'rb'), \n",
        "                                 sheet_name='Orders', sort=True, \n",
        "                                 converters={'Postal Code': lambda x: str(x),\n",
        "                                             'Delivery Location Postal Code': lambda x: str(x),\n",
        "                                             'DO Ref': lambda x: str(x)\n",
        "                                            }\n",
        "                                )\n",
        "    # drop unwanted columns\n",
        "    if 'Pickup Location Postal Code' and 'Pickup Location Address' and 'Earliest Pickup Time' and 'Latest Pickup Time' in df_order_Apr.columns:\n",
        "        df_order_Apr = df_order_Apr.drop(['Pickup Location Postal Code', 'Pickup Location Address',\n",
        "                                          'Earliest Pickup Time', 'Latest Pickup Time'\n",
        "                                         ], axis=1)\n",
        "        \n",
        "    # rename some columns for consistency\n",
        "    if 'Delivery Location Postal Code' in df_order_Apr.columns:\n",
        "        df_order_Apr = df_order_Apr.rename(columns={'Delivery Location Postal Code': 'Postal Code'})  \n",
        "    if 'Earliest Delivery Time' in df_order_Apr.columns:\n",
        "        df_order_Apr = df_order_Apr.rename(columns={'Earliest Delivery Time': 'Earliest delivery time '})\n",
        "    if 'Latest Delivery Time' in df_order_Apr.columns:\n",
        "        df_order_Apr = df_order_Apr.rename(columns={'Latest Delivery Time': 'Latest delivery time '})\n",
        "        \n",
        "    # fill down service time value\n",
        "    df_order_Apr['Service Time (Mins)'].fillna(method='ffill', inplace=True)\n",
        "    \n",
        "    orders_frames_Apr.append(df_order_Apr)\n",
        "df_orders_Apr = pd.concat(orders_frames_Apr, sort=False)\n",
        "\n",
        "# drop all rows where cell 'Delivery Date' is null\n",
        "df_orders_Apr = df_orders_Apr[pd.notnull(df_orders_Apr['Delivery Date'])]\n",
        "\n",
        "# drop empty columns\n",
        "df_orders_Apr.dropna(how='all', axis=1, inplace=True)\n",
        "\n",
        "# add leading zero to postal code\n",
        "df_orders_Apr['Postal Code'] = df_orders_Apr['Postal Code'].apply(lambda x: '{0:0>6}'.format(x))\n",
        "\n",
        "# convert date time\n",
        "convert_to_HHMM(df_orders_Apr, 'Earliest delivery time ')\n",
        "convert_to_HHMM(df_orders_Apr, 'Latest delivery time ')\n",
        "df_orders_Apr['Delivery Date'] = df_orders_Apr['Delivery Date'].apply(lambda x: pd.to_datetime(x, dayfirst=True)).dt.date\n",
        "\n",
        "# rename column 'DO Ref'\n",
        "df_orders_Apr = df_orders_Apr.rename(columns={'DO Ref': 'DO reference'})"
      ],
      "execution_count": 0,
      "outputs": []
    },
    {
      "cell_type": "markdown",
      "metadata": {
        "id": "0kWStF1JC0fW",
        "colab_type": "text"
      },
      "source": [
        "### <font color=green>【Delivery Orders】Consolidation</font>"
      ]
    },
    {
      "cell_type": "code",
      "metadata": {
        "ExecuteTime": {
          "end_time": "2019-06-17T01:05:48.893749Z",
          "start_time": "2019-06-17T01:05:48.806981Z"
        },
        "id": "eNtkZG-PC0fX",
        "colab_type": "code",
        "colab": {}
      },
      "source": [
        "orders_frames = [df_orders_Jan, df_orders_Feb, df_orders_Mar, df_orders_Apr]\n",
        "df_orders = pd.concat(orders_frames, sort=False)\n",
        "\n",
        "# update name 'CFS' to 'CKL'\n",
        "df_orders.replace({'CFS': 'CKL'}, inplace=True)\n",
        "\n",
        "# remove white space of postal code\n",
        "df_orders['Postal Code'].str.strip()\n",
        "\n",
        "# export the concatenated file as csv file\n",
        "df_orders.to_csv(root_path+'/Merged_Data/MergedDeliveryOrders.csv', index=False)"
      ],
      "execution_count": 0,
      "outputs": []
    },
    {
      "cell_type": "markdown",
      "metadata": {
        "id": "MY5qhRAzC0fa",
        "colab_type": "text"
      },
      "source": [
        "# <font color=black>【Engine Plans】Data Preparation</font>\n",
        "***"
      ]
    },
    {
      "cell_type": "markdown",
      "metadata": {
        "id": "b_95-clYC0fa",
        "colab_type": "text"
      },
      "source": [
        "## <font color=green>【Engine Plans】Data Wrangling</font>"
      ]
    },
    {
      "cell_type": "markdown",
      "metadata": {
        "id": "_eNN65tMC0fb",
        "colab_type": "text"
      },
      "source": [
        "### <font color=green>【Engine Plans】Jan</font>"
      ]
    },
    {
      "cell_type": "code",
      "metadata": {
        "ExecuteTime": {
          "end_time": "2019-06-17T01:05:50.034876Z",
          "start_time": "2019-06-17T01:05:48.896743Z"
        },
        "id": "bzvh18jcC0fc",
        "colab_type": "code",
        "colab": {}
      },
      "source": [
        "# read all sheets in the consolidated Excel file and load into a single data frame\n",
        "df_plans_Jan_raw = pd.read_excel(root_path+'Merged_Data/Engine_Plans/Plans_Jan/LiveTrial_Overview_Jan2019.xlsx', \n",
        "                                 sheet_name=None, ignore_index=True,\n",
        "                                 converters={'postal Code': lambda x: str(x),\n",
        "                                             'DO reference': lambda x: str(x),\n",
        "                                             'Delivery Seq. No': lambda x: str(x),\n",
        "                                             'Trip ID': lambda x: str(x),\n",
        "                                             'Arrival Time': lambda x: str(x),\n",
        "                                             'Time From': lambda x: str(x),\n",
        "                                             'Time To': lambda x: str(x)\n",
        "                                            }\n",
        "                                )\n",
        "df_plans_Jan = pd.concat(df_plans_Jan_raw.values(), sort=False)\n",
        "\n",
        "# drop all rows where cell 'Vehicle ID' is null\n",
        "df_plans_Jan = df_plans_Jan[pd.notnull(df_plans_Jan['Vehicle ID'])]\n",
        "\n",
        "# add leading zero to postal code\n",
        "df_plans_Jan['postal Code'] = df_plans_Jan['postal Code'].apply(lambda x: '{0:0>6}'.format(x))\n",
        "\n",
        "# replace all \"'-\", \"-\" with NaN\n",
        "df_plans_Jan.replace({\"'-\": np.NaN,\n",
        "                      \"-\": np.NaN\n",
        "                     }, inplace=True)\n",
        "\n",
        "# convert date time format\n",
        "df_plans_Jan['Delivery Date'] = df_plans_Jan['Delivery Date'].apply(lambda x: pd.to_datetime(x, infer_datetime_format=True, errors='ignore'))\n",
        "df_plans_Jan['Delivery Date'] = pd.to_datetime(df_plans_Jan['Delivery Date'], format='%Y%M%D').dt.date\n",
        "\n",
        "df_plans_Jan['Arrival Time'] = pd.to_datetime(df_plans_Jan['Arrival Time']).dt.strftime('%H:%M:%S')\n",
        "df_plans_Jan['Time From'] = pd.to_datetime(df_plans_Jan['Time From']).dt.strftime('%H:%M:%S')\n",
        "df_plans_Jan['Time To'] = pd.to_datetime(df_plans_Jan['Time To']).dt.strftime('%H:%M:%S')\n",
        "\n",
        "# convert column 'Quantity' to integers\n",
        "df_plans_Jan['Quantity'] = pd.to_numeric(df_plans_Jan['Quantity'], errors='coerce').fillna(0).astype(np.int64)\n",
        "\n",
        "# replace vehicle ID with values without white space\n",
        "df_plans_Jan['Vehicle ID'].replace({'YP 7655 J': 'YP7655J',\n",
        "                                    'YP 7655J T': 'YP7655J',\n",
        "                                    'YN 4635 Y': 'YN4635Y',\n",
        "                                    'YN 4635 Y - T': 'YN4635Y',\n",
        "                                    'YP   592 C': 'YP592C',\n",
        "                                    'YP 592 C - T': 'YP592C',\n",
        "                                    'YP 3776 U': 'YP3776U',\n",
        "                                    'YP 3776 U - T': 'YP3776U'\n",
        "                                   }, inplace=True)\n",
        "\n",
        "# replace all 'NaT' with NaN\n",
        "df_plans_Jan['Time From'].replace({'NaT': np.NaN}, inplace=True)\n",
        "df_plans_Jan['Time To'].replace({'NaT': np.NaN}, inplace=True)\n",
        "\n",
        "# create a new column \"On Time\" and see if the delivery plan is on time for each order row by row\n",
        "df_plans_Jan.insert(loc=14, column='On Time', \n",
        "                    value=np.where((df_plans_Jan['Arrival Time'] >= df_plans_Jan['Time From']) & \n",
        "                                   (df_plans_Jan['Arrival Time'] <= df_plans_Jan['Time To']), \n",
        "                                   'True', 'False'))\n",
        "\n",
        "df_plans_Jan['On Time'] = np.where(df_plans_Jan['Time To'].isna(), np.NaN, df_plans_Jan['On Time'])\n",
        "\n",
        "# create a new column \"Engine Time\" and compute the travel time\n",
        "df_plans_Jan['Engine Time'] = df_plans_Jan.iloc[:, -4:-1].sum(axis=1)\n",
        "\n",
        "# rename columns\n",
        "df_plans_Jan.rename(columns={'Address': 'Delivery Location Address',\n",
        "                             'postal Code': 'Postal Code',\n",
        "                             'Location': 'Delivery Location'\n",
        "                            }, inplace=True)"
      ],
      "execution_count": 0,
      "outputs": []
    },
    {
      "cell_type": "markdown",
      "metadata": {
        "id": "G_TEAblxC0fe",
        "colab_type": "text"
      },
      "source": [
        "### <font color=green>【Engine Plans】Feb</font>"
      ]
    },
    {
      "cell_type": "code",
      "metadata": {
        "ExecuteTime": {
          "end_time": "2019-06-17T01:05:50.675404Z",
          "start_time": "2019-06-17T01:05:50.037704Z"
        },
        "id": "etC16LOyC0ff",
        "colab_type": "code",
        "colab": {}
      },
      "source": [
        "# count number of files in the folder\n",
        "num_plan_files_Feb = sum([len(files) for r, d, files in os.walk(root_path+'Merged_Data/Engine_Plans/Plans_Feb')])\n",
        "\n",
        "# concatenate all delivery orders into one data frame\n",
        "plans_frames_Feb = []\n",
        "for i in range(num_plan_files_Feb):\n",
        "    df_plan_Feb = pd.read_csv(open(root_path+'Merged_Data/Engine_Plans/Plans_Feb/Feb19_Engine_Plan ({}).csv'.format(i+1), 'rb'),\n",
        "                            converters={'Postal Code': lambda x: str(x),\n",
        "                                        'DO reference': lambda x: str(x),\n",
        "                                        'Delivery Seq. No': lambda x: str(x),\n",
        "                                        'Trip ID': lambda x: str(x),\n",
        "                                       }\n",
        "                             )\n",
        "    \n",
        "    # fill NaN of column 'Delivery Date' with date value\n",
        "    date_value_Feb = df_plan_Feb.at[3, 'Delivery Date']\n",
        "    df_plan_Feb['Delivery Date'].fillna(date_value_Feb, inplace=True)\n",
        "    \n",
        "    plans_frames_Feb.append(df_plan_Feb)\n",
        "df_plans_Feb = pd.concat(plans_frames_Feb, sort=False)\n",
        "\n",
        "# drop all rows where cell 'Vehicle ID' is null\n",
        "df_plans_Feb = df_plans_Feb[pd.notnull(df_plans_Feb['Vehicle ID'])]\n",
        "\n",
        "# add leading zero to postal code\n",
        "df_plans_Feb['Postal Code'] = df_plans_Feb['Postal Code'].apply(lambda x: '{0:0>6}'.format(x))\n",
        "\n",
        "# replace all \"'-\" with NaN\n",
        "df_plans_Feb.replace({\"'-\": np.NaN}, inplace=True)\n",
        "\n",
        "# convert date time format\n",
        "df_plans_Feb['Delivery Date'] = df_plans_Feb['Delivery Date'].apply(lambda x: pd.to_datetime(x, format='%d/%m/%Y'))\n",
        "df_plans_Feb['Delivery Date'] = pd.to_datetime(df_plans_Feb['Delivery Date'], format='%Y%M%D').dt.date\n",
        "\n",
        "df_plans_Feb['Arrival Time'] = pd.to_datetime(df_plans_Feb['Arrival Time']).dt.strftime('%H:%M:%S')\n",
        "df_plans_Feb['Time From'] = pd.to_datetime(df_plans_Feb['Time From']).dt.strftime('%H:%M:%S')\n",
        "df_plans_Feb['Time To'] = pd.to_datetime(df_plans_Feb['Time To']).dt.strftime('%H:%M:%S')\n",
        "\n",
        "# convert column 'Quantity' to integers\n",
        "df_plans_Feb['Quantity'] = pd.to_numeric(df_plans_Feb['Quantity'], errors='coerce').fillna(0).astype(np.int64)\n",
        "\n",
        "# replace vehicle ID with values without white space\n",
        "df_plans_Feb['Vehicle ID'].replace({'YP 7655 J': 'YP7655J',\n",
        "                                    'YP 7655J T': 'YP7655J',\n",
        "                                    'YN 4635 Y': 'YN4635Y',\n",
        "                                    'YN 4635 Y - T': 'YN4635Y',\n",
        "                                    'YP   592 C': 'YP592C',\n",
        "                                    'YP 592 C - T': 'YP592C',\n",
        "                                    'YP 3776 U': 'YP3776U',\n",
        "                                    'YP 3776 U - T': 'YP3776U'\n",
        "                                   }, inplace=True)\n",
        "\n",
        "# replace all 'NaT' with NaN\n",
        "df_plans_Feb['Time From'].replace({'NaT': np.NaN}, inplace=True)\n",
        "df_plans_Feb['Time To'].replace({'NaT': np.NaN}, inplace=True)\n",
        "\n",
        "# create a new column \"On Time\" and see if the delivery plan is on time for each order row by row\n",
        "df_plans_Feb.insert(loc=14, column='On Time', \n",
        "                    value=np.where((df_plans_Feb['Arrival Time'] >= df_plans_Feb['Time From']) & \n",
        "                                   (df_plans_Feb['Arrival Time'] <= df_plans_Feb['Time To']), \n",
        "                                   'True', 'False'))\n",
        "\n",
        "df_plans_Feb['On Time'] = np.where(df_plans_Feb['Time To'].isna(), np.NaN, df_plans_Feb['On Time'])\n",
        "\n",
        "# create a new column \"Total Travel Time\" and compute the travel time\n",
        "df_plans_Feb['Engine Time'] = df_plans_Feb.iloc[:, -4:-1].sum(axis=1)\n",
        "\n",
        "# rename columns\n",
        "df_plans_Feb.rename(columns={'Address': 'Delivery Location Address',\n",
        "                             'Location': 'Delivery Location'\n",
        "                            }, inplace=True)"
      ],
      "execution_count": 0,
      "outputs": []
    },
    {
      "cell_type": "markdown",
      "metadata": {
        "id": "NpxTQBWjC0fh",
        "colab_type": "text"
      },
      "source": [
        "### <font color=green>【Engine Plans】Mar</font>"
      ]
    },
    {
      "cell_type": "code",
      "metadata": {
        "ExecuteTime": {
          "end_time": "2019-06-17T01:05:51.741342Z",
          "start_time": "2019-06-17T01:05:50.677470Z"
        },
        "code_folding": [],
        "id": "YVBiOwtBC0fh",
        "colab_type": "code",
        "colab": {}
      },
      "source": [
        "# count number of files in the folder\n",
        "num_plan_files_Mar = sum([len(files) for r, d, files in os.walk(root_path+'Merged_Data/Engine_Plans/Plans_Mar')])\n",
        "\n",
        "# concatenate all delivery orders into one data frame\n",
        "plans_frames_Mar = []\n",
        "for i in range(num_plan_files_Mar):\n",
        "    df_plan_Mar = pd.read_csv(open(root_path+'Merged_Data/Engine_Plans/Plans_Mar/Mar19_Engine_Plan ({}).csv'.format(i+1), 'rb'),\n",
        "                            converters={'Postal Code': lambda x: str(x),\n",
        "                                        'DO reference': lambda x: str(x),\n",
        "                                        'Delivery Seq. No': lambda x: str(x),\n",
        "                                        'Trip ID': lambda x: str(x),\n",
        "                                       }\n",
        "                             )\n",
        "    \n",
        "    # fill NaN of column 'Delivery Date' with date value\n",
        "    date_value_Mar = df_plan_Mar.at[3, 'Delivery Date']\n",
        "    df_plan_Mar['Delivery Date'].fillna(date_value_Mar, inplace=True)\n",
        "    \n",
        "    plans_frames_Mar.append(df_plan_Mar)\n",
        "df_plans_Mar = pd.concat(plans_frames_Mar, sort=False)\n",
        "\n",
        "# rename some columns for consistency\n",
        "df_plans_Mar.rename(columns={'Delivery Time From': 'Time From',\n",
        "                             'Delivery Time To': 'Time To',\n",
        "                             'Address': 'Delivery Location Address'\n",
        "                            }, inplace=True)\n",
        "\n",
        "# drop unwanted columns\n",
        "df_plans_Mar.drop(['Pickup Location', 'Pickup Time From', 'Pickup Time To', 'Booking Ref'], axis=1, inplace=True)\n",
        "\n",
        "# drop all rows where cell 'Vehicle ID' is null\n",
        "df_plans_Mar = df_plans_Mar[pd.notnull(df_plans_Mar['Vehicle ID'])]\n",
        "\n",
        "# add leading zero to postal code\n",
        "df_plans_Mar['Postal Code'] = df_plans_Mar['Postal Code'].apply(lambda x: '{0:0>6}'.format(x))\n",
        "\n",
        "# replace all \"'-\" with NaN\n",
        "df_plans_Mar.replace({\"'-\": np.NaN}, inplace=True)\n",
        "\n",
        "# convert date time format\n",
        "df_plans_Mar['Delivery Date'] = df_plans_Mar['Delivery Date'].apply(lambda x: pd.to_datetime(x, infer_datetime_format=True))\n",
        "df_plans_Mar['Delivery Date'] = pd.to_datetime(df_plans_Mar['Delivery Date'], format='%Y%M%D').dt.date\n",
        "\n",
        "df_plans_Mar['Arrival Time'] = pd.to_datetime(df_plans_Mar['Arrival Time']).dt.strftime('%H:%M:%S')\n",
        "df_plans_Mar['Time From'] = pd.to_datetime(df_plans_Mar['Time From']).dt.strftime('%H:%M:%S')\n",
        "df_plans_Mar['Time To'] = pd.to_datetime(df_plans_Mar['Time To']).dt.strftime('%H:%M:%S')\n",
        "\n",
        "# convert column 'Quantity' to integers\n",
        "df_plans_Mar['Quantity'] = pd.to_numeric(df_plans_Mar['Quantity'], errors='coerce').fillna(0).astype(np.int64)\n",
        "\n",
        "# replace vehicle ID with values without white space\n",
        "df_plans_Mar['Vehicle ID'].replace({'YP 7655 J': 'YP7655J',\n",
        "                                    'YP 7655J T': 'YP7655J',\n",
        "                                    'YN 4635 Y': 'YN4635Y',\n",
        "                                    'YN 4635 Y - T': 'YN4635Y',\n",
        "                                    'YP   592 C': 'YP592C',\n",
        "                                    'YP 592 C - T': 'YP592C',\n",
        "                                    'YP 3776 U': 'YP3776U',\n",
        "                                    'YP 3776 U - T': 'YP3776U'\n",
        "                                   }, inplace=True)\n",
        "\n",
        "# replace all 'NaT' with NaN\n",
        "df_plans_Mar['Time From'].replace({'NaT': np.NaN}, inplace=True)\n",
        "df_plans_Mar['Time To'].replace({'NaT': np.NaN}, inplace=True)\n",
        "\n",
        "# create a new column \"On Time\" and see if the delivery plan is on time for each order row by row\n",
        "df_plans_Mar.insert(loc=14, column='On Time', \n",
        "                    value=np.where((df_plans_Mar['Arrival Time'] >= df_plans_Mar['Time From']) & \n",
        "                                   (df_plans_Mar['Arrival Time'] <= df_plans_Mar['Time To']), \n",
        "                                   'True', 'False'))\n",
        "\n",
        "df_plans_Mar['On Time'] = np.where(df_plans_Mar['Time To'].isna(), np.NaN, df_plans_Mar['On Time'])\n",
        "\n",
        "# create a new column \"Total Travel Time\" and compute the travel time\n",
        "df_plans_Mar['Engine Time'] = df_plans_Mar.iloc[:, -4:-1].sum(axis=1)"
      ],
      "execution_count": 0,
      "outputs": []
    },
    {
      "cell_type": "markdown",
      "metadata": {
        "id": "vCv_c9I_C0fk",
        "colab_type": "text"
      },
      "source": [
        "### <font color=green>【Engine Plans】Apr</font>"
      ]
    },
    {
      "cell_type": "code",
      "metadata": {
        "ExecuteTime": {
          "end_time": "2019-06-17T01:05:52.463612Z",
          "start_time": "2019-06-17T01:05:51.742331Z"
        },
        "id": "wOI7XS5-C0fl",
        "colab_type": "code",
        "colab": {}
      },
      "source": [
        "# count number of files in the folder\n",
        "num_plan_files_Apr = sum([len(files) for r, d, files in os.walk(root_path+'Merged_Data/Engine_Plans/Plans_Apr')])\n",
        "\n",
        "# concatenate all delivery orders into one data frame\n",
        "plans_frames_Apr = []\n",
        "for i in range(num_plan_files_Apr):\n",
        "    df_plan_Apr = pd.read_excel(open(root_path+'Merged_Data/Engine_Plans/Plans_Apr/Apr19_Engine_Plan ({}).xlsx'.format(i+1), 'rb'),\n",
        "                                sheet_name=0, sort=True,\n",
        "                                converters={'Postal Code': lambda x: str(x),\n",
        "                                            'DO reference': lambda x: str(x),\n",
        "                                            'Delivery Seq. No': lambda x: str(x),\n",
        "                                            'Trip ID': lambda x: str(x),\n",
        "                                           }\n",
        "                                )\n",
        "    \n",
        "    # fill NaN of column 'Delivery Date' with date value\n",
        "    date_value_Apr = df_plan_Apr.at[3, 'Delivery Date']\n",
        "    df_plan_Apr['Delivery Date'].fillna(date_value_Apr, inplace=True)\n",
        "    \n",
        "    plans_frames_Apr.append(df_plan_Apr)\n",
        "df_plans_Apr = pd.concat(plans_frames_Apr, sort=False)\n",
        "\n",
        "# rename some columns for consistency\n",
        "df_plans_Apr.rename(columns={'Address': 'Delivery Location Address',\n",
        "                             'Location': 'Delivery Location'}, inplace=True)\n",
        "\n",
        "# drop unwanted columns\n",
        "df_plans_Apr.drop(['Pickup Location', 'Pickup Location Postal Code'], axis=1, inplace=True)\n",
        "\n",
        "# drop all rows where cell 'Vehicle ID' is null\n",
        "df_plans_Apr = df_plans_Apr[pd.notnull(df_plans_Apr['Vehicle ID'])]\n",
        "\n",
        "# add leading zero to postal code\n",
        "df_plans_Apr['Postal Code'] = df_plans_Apr['Postal Code'].apply(lambda x: '{0:0>6}'.format(x))\n",
        "\n",
        "# replace all \"'-\" with NaN\n",
        "df_plans_Apr.replace({\"'-\": np.NaN}, inplace=True)\n",
        "\n",
        "# convert date time format\n",
        "df_plans_Apr['Delivery Date'] = df_plans_Apr['Delivery Date'].apply(lambda x: pd.to_datetime(x, dayfirst=True))\n",
        "df_plans_Apr['Delivery Date'] = pd.to_datetime(df_plans_Apr['Delivery Date'], format='%Y%M%D').dt.date\n",
        "\n",
        "df_plans_Apr['Arrival Time'] = pd.to_datetime(df_plans_Apr['Arrival Time']).dt.strftime('%H:%M:%S')\n",
        "df_plans_Apr['Time From'] = pd.to_datetime(df_plans_Apr['Time From']).dt.strftime('%H:%M:%S')\n",
        "df_plans_Apr['Time To'] = pd.to_datetime(df_plans_Apr['Time To']).dt.strftime('%H:%M:%S')\n",
        "\n",
        "# convert column 'Quantity' to integers\n",
        "df_plans_Apr['Quantity'] = pd.to_numeric(df_plans_Apr['Quantity'], errors='coerce').fillna(0).astype(np.int64)\n",
        "\n",
        "# replace vehicle ID with values without white space\n",
        "df_plans_Apr['Vehicle ID'].replace({'YP 7655 J': 'YP7655J',\n",
        "                                    'YP 7655J T': 'YP7655J',\n",
        "                                    'YN 7131 P': 'YN7131P',\n",
        "                                    'YN 7279 Y': 'YN7279Y',\n",
        "                                    'YP   592 C': 'YP592C',\n",
        "                                    'YN 4408 L': 'YN4408L',\n",
        "                                    'YP 3776 U': 'YP3776U'\n",
        "                                   }, inplace=True)\n",
        "\n",
        "# replace all 'NaT' with NaN\n",
        "df_plans_Apr['Time From'].replace({'NaT': np.NaN}, inplace=True)\n",
        "df_plans_Apr['Time To'].replace({'NaT': np.NaN}, inplace=True)\n",
        "\n",
        "# create a new column \"On Time\" and see if the delivery plan is on time for each order row by row\n",
        "df_plans_Apr.insert(loc=14, column='On Time', \n",
        "                    value=np.where((df_plans_Apr['Arrival Time'] >= df_plans_Apr['Time From']) & \n",
        "                                   (df_plans_Apr['Arrival Time'] <= df_plans_Apr['Time To']), \n",
        "                                   'True', 'False'))\n",
        "\n",
        "df_plans_Apr['On Time'] = np.where(df_plans_Apr['Time To'].isna(), np.NaN, df_plans_Apr['On Time'])\n",
        "\n",
        "# create a new column \"Total Travel Time\" and compute the travel time\n",
        "df_plans_Apr['Engine Time'] = df_plans_Apr.iloc[:, -4:-1].sum(axis=1)"
      ],
      "execution_count": 0,
      "outputs": []
    },
    {
      "cell_type": "markdown",
      "metadata": {
        "id": "7uTkQVvXC0fn",
        "colab_type": "text"
      },
      "source": [
        "### <font color=green>【Engine Plans】Consolidation</font>"
      ]
    },
    {
      "cell_type": "code",
      "metadata": {
        "ExecuteTime": {
          "end_time": "2019-06-17T01:05:52.557232Z",
          "start_time": "2019-06-17T01:05:52.465441Z"
        },
        "id": "5tMyi8bWC0fn",
        "colab_type": "code",
        "colab": {}
      },
      "source": [
        "plans_frames = [df_plans_Jan, df_plans_Feb, df_plans_Mar, df_plans_Apr]\n",
        "df_plans = pd.concat(plans_frames, sort=False)\n",
        "\n",
        "# update name 'CFS' to 'CKL'\n",
        "df_plans.replace({'CFS': 'CKL'}, inplace=True)\n",
        "\n",
        "# remove white space of postal code\n",
        "df_plans['Postal Code'].str.strip()\n",
        "\n",
        "# export the concatenated file as csv file\n",
        "df_plans.to_csv(root_path+'Merged_Data/MergedEnginePlans.csv', index=False)"
      ],
      "execution_count": 0,
      "outputs": []
    },
    {
      "cell_type": "markdown",
      "metadata": {
        "id": "-ybB2tlWC0fp",
        "colab_type": "text"
      },
      "source": [
        "### <font color=green>【Engine Plans】Lookup Distance Matrix</font>"
      ]
    },
    {
      "cell_type": "code",
      "metadata": {
        "ExecuteTime": {
          "end_time": "2019-06-17T01:05:58.936304Z",
          "start_time": "2019-06-17T01:05:52.559193Z"
        },
        "id": "5P_ndrR5C0fq",
        "colab_type": "code",
        "colab": {}
      },
      "source": [
        "# read distance matrix\n",
        "df_distance_matrix = pd.read_excel(open(root_path+'Merged_Data/Distance_Matrix.xlsx', 'rb'))\n",
        "df_distance_matrix.set_index('Row Labels', inplace=True)\n",
        "\n",
        "# create a new column \"Engine Distance\" and lookup distance value to fill the column\n",
        "df_plans.insert(loc=20, column='Engine Distance', value=np.NaN)\n",
        "\n",
        "plans_row_count = df_plans.shape[0]\n",
        "location_list = df_distance_matrix.columns.values.tolist()\n",
        "for i in range(plans_row_count):\n",
        "    if i == 0:\n",
        "        df_plans.iloc[i, 20] = np.NaN\n",
        "    else:\n",
        "        start_location = df_plans.iloc[i-1, 4]\n",
        "        end_location = df_plans.iloc[i, 4]\n",
        "        \n",
        "        # remove \",\" if it is in the last position of the string\n",
        "        if start_location[-1] == ',':\n",
        "            start_location = start_location.rstrip(',')\n",
        "        if end_location[-1] == ',':\n",
        "            end_location = end_location.rstrip(',')\n",
        "        \n",
        "        # lookup distance from the distance matrix based on start_location and end_location\n",
        "        if (start_location in location_list) and (end_location in location_list):\n",
        "            df_plans.iloc[i, 20] = df_distance_matrix.lookup([start_location], [end_location])\n",
        "        else:\n",
        "            df_plans.iloc[i, 20] = np.NaN"
      ],
      "execution_count": 0,
      "outputs": []
    },
    {
      "cell_type": "markdown",
      "metadata": {
        "id": "E0t1zP49C0fs",
        "colab_type": "text"
      },
      "source": [
        "### <font color=green>【Engine Plans】Lookup Lat Long</font>"
      ]
    },
    {
      "cell_type": "code",
      "metadata": {
        "ExecuteTime": {
          "end_time": "2019-06-17T01:05:59.071808Z",
          "start_time": "2019-06-17T01:05:58.938131Z"
        },
        "id": "hydh0BOTC0fs",
        "colab_type": "code",
        "colab": {}
      },
      "source": [
        "# read geocoding table\n",
        "df_geocoding = pd.read_excel(open(root_path+'Merged_Data/Geocoding.xlsx', 'rb'),\n",
        "                            sheet_name=0, sort=True,\n",
        "                            converters={'Postal Code': lambda x: str(x)})\n",
        "\n",
        "df_plans = df_plans.merge(df_geocoding, on='Postal Code', how='left')\n",
        "\n",
        "# export the concatenated file as csv file\n",
        "df_plans.to_csv(root_path+'Merged_Data/MergedEnginePlansProcessed.csv', index=False)"
      ],
      "execution_count": 0,
      "outputs": []
    },
    {
      "cell_type": "markdown",
      "metadata": {
        "id": "P9kD-R-iC0fv",
        "colab_type": "text"
      },
      "source": [
        "### <font color=green>【Engine Plans】Extract Table of Quantity by Vehicle</font>"
      ]
    },
    {
      "cell_type": "code",
      "metadata": {
        "ExecuteTime": {
          "end_time": "2019-06-17T01:05:59.090727Z",
          "start_time": "2019-06-17T01:05:59.073769Z"
        },
        "id": "mPo1qqYVC0fv",
        "colab_type": "code",
        "colab": {}
      },
      "source": [
        "df_plans_quantity_vehicle = df_plans[['Vehicle ID', 'Delivery Date', 'Quantity']]\n",
        "df_plans_quantity_vehicle = df_plans_quantity_vehicle.groupby(['Vehicle ID', 'Delivery Date']).sum()\n",
        "df_plans_quantity_vehicle.sort_values(by=['Delivery Date', 'Vehicle ID'], inplace=True)"
      ],
      "execution_count": 0,
      "outputs": []
    },
    {
      "cell_type": "markdown",
      "metadata": {
        "id": "x4PM3OX0C0fz",
        "colab_type": "text"
      },
      "source": [
        "### <font color=green>【Engine Plans】Count Trips</font>"
      ]
    },
    {
      "cell_type": "code",
      "metadata": {
        "ExecuteTime": {
          "end_time": "2019-06-17T01:05:59.112664Z",
          "start_time": "2019-06-17T01:05:59.092719Z"
        },
        "id": "YaKdJqs3C0f0",
        "colab_type": "code",
        "colab": {}
      },
      "source": [
        "df_plans.insert(loc=5, column='Trip Marker', \n",
        "                value=np.where((df_plans['Delivery Location'] == 'CKL') & (df_plans['Delivery Seq. No'] != '1'), \n",
        "                               1, np.NaN)\n",
        "               )\n",
        "\n",
        "df_plans_trip_summary = df_plans.groupby(['Delivery Date', 'Vehicle ID']).sum()['Trip Marker']\n",
        "df_plans_trip_summary = df_plans_trip_summary.to_frame()"
      ],
      "execution_count": 0,
      "outputs": []
    },
    {
      "cell_type": "markdown",
      "metadata": {
        "id": "zdKUe_dbC0f5",
        "colab_type": "text"
      },
      "source": [
        "## <font color=magenta>【Engine Plans】Data Analysis</font>"
      ]
    },
    {
      "cell_type": "markdown",
      "metadata": {
        "id": "4Vba8XXKC0f5",
        "colab_type": "text"
      },
      "source": [
        "### <font color=magenta>【Engine Plans】Engine Plan Date List</font>"
      ]
    },
    {
      "cell_type": "code",
      "metadata": {
        "ExecuteTime": {
          "end_time": "2019-06-17T01:05:59.149564Z",
          "start_time": "2019-06-17T01:05:59.114680Z"
        },
        "id": "0zL1fBYSC0f6",
        "colab_type": "code",
        "outputId": "533e3a6d-e0a6-408f-fcd6-724c64b88f62",
        "colab": {
          "base_uri": "https://localhost:8080/",
          "height": 1460
        }
      },
      "source": [
        "# list down the date with engine plans\n",
        "date_planned = df_plans['Delivery Date'].apply(lambda x: x.strftime('%Y-%m-%d')).unique().tolist()\n",
        "date_planned"
      ],
      "execution_count": 128,
      "outputs": [
        {
          "output_type": "execute_result",
          "data": {
            "text/plain": [
              "['2019-01-01',\n",
              " '2019-01-02',\n",
              " '2019-01-03',\n",
              " '2019-01-04',\n",
              " '2019-01-05',\n",
              " '2019-01-07',\n",
              " '2019-01-08',\n",
              " '2019-01-10',\n",
              " '2019-01-11',\n",
              " '2019-01-14',\n",
              " '2019-01-15',\n",
              " '2019-01-16',\n",
              " '2019-01-17',\n",
              " '2019-01-19',\n",
              " '2019-01-21',\n",
              " '2019-01-22',\n",
              " '2019-01-23',\n",
              " '2019-01-24',\n",
              " '2019-01-25',\n",
              " '2019-01-26',\n",
              " '2019-01-28',\n",
              " '2019-01-29',\n",
              " '2019-01-30',\n",
              " '2019-02-02',\n",
              " '2019-02-04',\n",
              " '2019-02-05',\n",
              " '2019-02-06',\n",
              " '2019-02-07',\n",
              " '2019-02-08',\n",
              " '2019-02-09',\n",
              " '2019-02-11',\n",
              " '2019-02-12',\n",
              " '2019-02-13',\n",
              " '2019-02-14',\n",
              " '2019-02-15',\n",
              " '2019-02-18',\n",
              " '2019-02-19',\n",
              " '2019-02-20',\n",
              " '2019-02-21',\n",
              " '2019-02-23',\n",
              " '2019-02-25',\n",
              " '2019-02-26',\n",
              " '2019-02-27',\n",
              " '2019-02-28',\n",
              " '2019-03-02',\n",
              " '2019-03-04',\n",
              " '2019-03-06',\n",
              " '2019-03-07',\n",
              " '2019-03-08',\n",
              " '2019-03-09',\n",
              " '2019-03-11',\n",
              " '2019-03-12',\n",
              " '2019-03-13',\n",
              " '2019-03-14',\n",
              " '2019-03-15',\n",
              " '2019-03-16',\n",
              " '2019-03-18',\n",
              " '2019-03-19',\n",
              " '2019-03-20',\n",
              " '2019-03-21',\n",
              " '2019-03-22',\n",
              " '2019-03-23',\n",
              " '2019-03-25',\n",
              " '2019-03-26',\n",
              " '2019-03-27',\n",
              " '2019-03-28',\n",
              " '2019-03-29',\n",
              " '2019-04-01',\n",
              " '2019-04-02',\n",
              " '2019-04-03',\n",
              " '2019-04-04',\n",
              " '2019-04-05',\n",
              " '2019-04-06',\n",
              " '2019-04-08',\n",
              " '2019-04-09',\n",
              " '2019-04-10',\n",
              " '2019-04-11',\n",
              " '2019-04-12',\n",
              " '2019-04-13',\n",
              " '2019-04-16',\n",
              " '2019-04-23',\n",
              " '2019-04-26']"
            ]
          },
          "metadata": {
            "tags": []
          },
          "execution_count": 128
        }
      ]
    },
    {
      "cell_type": "markdown",
      "metadata": {
        "id": "hdS8ED_nC0f-",
        "colab_type": "text"
      },
      "source": [
        "# <font color=black>【GPS Data】Data Preparation</font>\n",
        "***"
      ]
    },
    {
      "cell_type": "markdown",
      "metadata": {
        "id": "-nzBCiJCC0f_",
        "colab_type": "text"
      },
      "source": [
        "## <font color=blue>【GPS Data】User Defined Functions</font>"
      ]
    },
    {
      "cell_type": "code",
      "metadata": {
        "ExecuteTime": {
          "end_time": "2019-06-17T01:05:59.161548Z",
          "start_time": "2019-06-17T01:05:59.152591Z"
        },
        "id": "iAZS36IxC0f_",
        "colab_type": "code",
        "colab": {}
      },
      "source": [
        "def get_postal_code(x):\n",
        "    if x.split()[0] == 'Close' and x.split()[1] == 'to':\n",
        "        return x.split()[2]\n",
        "    else:\n",
        "        return np.NaN"
      ],
      "execution_count": 0,
      "outputs": []
    },
    {
      "cell_type": "markdown",
      "metadata": {
        "id": "QQmvStYNC0gC",
        "colab_type": "text"
      },
      "source": [
        "## <font color=green>【GPS Data】Data Wrangling</font>"
      ]
    },
    {
      "cell_type": "markdown",
      "metadata": {
        "id": "e-Dz1CADC0gD",
        "colab_type": "text"
      },
      "source": [
        "### <font color=green>【GPS Data】Consolidation</font>"
      ]
    },
    {
      "cell_type": "code",
      "metadata": {
        "ExecuteTime": {
          "end_time": "2019-06-17T01:06:25.045422Z",
          "start_time": "2019-06-17T01:05:59.164526Z"
        },
        "id": "8UYb7MVrC0gD",
        "colab_type": "code",
        "colab": {}
      },
      "source": [
        "# read all Excel files in the folder\n",
        "GPS_data_path = root_path+'Merged_Data/GPS_Data'\n",
        "GPS_files = []\n",
        "for r, d, f in os.walk(GPS_data_path):\n",
        "    for file in f:\n",
        "        if '.xls' in file:\n",
        "            GPS_files.append(os.path.join(r, file))\n",
        "\n",
        "# concatenate all GPS raw data into one data frame\n",
        "GPS_frames = []\n",
        "for f in GPS_files:\n",
        "    df_raw_GPS = pd.read_excel(open(f, 'rb'))\n",
        "    vehicle_ID = df_raw_GPS.at[13, 'Unnamed: 6']\n",
        "    df_raw_GPS = df_raw_GPS[['Unnamed: 1','Unnamed: 2', 'Unnamed: 3', 'Unnamed: 5', 'Unnamed: 7', 'Unnamed: 8']]\n",
        "    df_raw_GPS = df_raw_GPS[pd.notnull(df_raw_GPS['Unnamed: 1'])]\n",
        "    df_raw_GPS = df_raw_GPS.rename(columns={'Unnamed: 1': 'Date',\n",
        "                                            'Unnamed: 2': 'Long',\n",
        "                                            'Unnamed: 3': 'Lat',\n",
        "                                            'Unnamed: 5': 'Locale',\n",
        "                                            'Unnamed: 7': 'Speed',\n",
        "                                            'Unnamed: 8': 'Odometer'\n",
        "                                           }\n",
        "                                  )\n",
        "    df_raw_GPS = df_raw_GPS[~df_raw_GPS['Date'].isin(['Travel Summary', 'Driver', 'Type', 'Date', 'Dates'])]\n",
        "    df_raw_GPS.insert(loc=0, column='Vehicle ID', value=vehicle_ID)\n",
        "    GPS_frames.append(df_raw_GPS)\n",
        "df_GPS = pd.concat(GPS_frames, sort=False)\n",
        "\n",
        "# sort the data frame by \"Vehicle ID\" and \"Date\"\n",
        "df_GPS.sort_values(by=['Vehicle ID', 'Date'], inplace=True)"
      ],
      "execution_count": 0,
      "outputs": []
    },
    {
      "cell_type": "markdown",
      "metadata": {
        "id": "6rO05FzQC0gF",
        "colab_type": "text"
      },
      "source": [
        "### <font color=green>【GPS Data】Calculate Columns</font>"
      ]
    },
    {
      "cell_type": "code",
      "metadata": {
        "ExecuteTime": {
          "end_time": "2019-06-17T01:06:32.611147Z",
          "start_time": "2019-06-17T01:06:25.047384Z"
        },
        "id": "kOyFTM_xC0gF",
        "colab_type": "code",
        "colab": {}
      },
      "source": [
        "# create a seperate date column with date value only\n",
        "df_GPS['Date Only'] = df_GPS['Date'].apply(lambda x: x.date())\n",
        "\n",
        "# rename column \"Date\" to \"Date Time\"\n",
        "df_GPS.rename(columns={'Date': 'Date Time'}, inplace=True)\n",
        "\n",
        "# create a new column 'Travel Distance' and calculate distance travelled row by row\n",
        "df_GPS['Travel Distance'] = df_GPS.groupby(['Vehicle ID'])['Odometer'].diff()\n",
        "\n",
        "# remove rows with \"Travel Distance\" less than 0\n",
        "df_GPS = df_GPS[df_GPS['Travel Distance'] >= 0]\n",
        "\n",
        "# create a new column 'Travel Time' and calculate time travelled row by row\n",
        "df_GPS['Travel Time in Seconds'] = df_GPS.groupby(['Vehicle ID', df_GPS['Date Only']])['Date Time'].diff().astype('timedelta64[s]')\n",
        "\n",
        "# change column \"Lat\" & \"Long\" to float\n",
        "df_GPS['Lat'] = df_GPS['Lat'].astype(float)\n",
        "df_GPS['Long'] = df_GPS['Long'].astype(float)\n",
        "\n",
        "# export the concatenated file as csv file\n",
        "df_GPS.to_csv(root_path+'Merged_Data/MergedGPSData.csv', index=False)"
      ],
      "execution_count": 0,
      "outputs": []
    },
    {
      "cell_type": "markdown",
      "metadata": {
        "id": "zpEPVIV_C0gH",
        "colab_type": "text"
      },
      "source": [
        "### <font color=green>【GPS Data】Filtered Data</font>"
      ]
    },
    {
      "cell_type": "code",
      "metadata": {
        "ExecuteTime": {
          "end_time": "2019-06-17T01:06:36.212485Z",
          "start_time": "2019-06-17T01:06:32.613112Z"
        },
        "id": "hirlzBnJC0gH",
        "colab_type": "code",
        "colab": {}
      },
      "source": [
        "# filter out rows where date values do not exist in Engine Plans\n",
        "df_GPS_filtered = df_GPS[df_GPS['Date Only'].apply(lambda x: str(x)).isin(date_planned)]\n",
        "\n",
        "# filter out rows where speed is zero and time is out of operating hours\n",
        "# df_GPS_filtered = df_GPS_filtered[~(\n",
        "#                                     (df_GPS_filtered['Speed'] == 0) &\n",
        "#                                     (df_GPS_filtered['Date Time'].dt.hour < 6)\n",
        "#                                    )\n",
        "#                                  ]\n",
        "\n",
        "# filter out vehicle \"YN4635Y\" & \"March\" data\n",
        "df_GPS_filtered = df_GPS_filtered[~(\n",
        "                                    (df_GPS_filtered['Vehicle ID'] == 'YN4635Y') &\n",
        "                                    (df_GPS_filtered['Date Time'].dt.month == 3)\n",
        "                                   )\n",
        "                                 ]\n",
        "\n",
        "# export the concatenated file as csv file\n",
        "df_GPS_filtered.to_csv(root_path+'Merged_Data/MergedGPSDataProcessedFiltered.csv', index=False)"
      ],
      "execution_count": 0,
      "outputs": []
    },
    {
      "cell_type": "markdown",
      "metadata": {
        "id": "jmu0i4ytC0gJ",
        "colab_type": "text"
      },
      "source": [
        "### <font color=green>【GPS Data】In-mall Time</font>"
      ]
    },
    {
      "cell_type": "code",
      "metadata": {
        "ExecuteTime": {
          "end_time": "2019-06-17T01:06:37.160948Z",
          "start_time": "2019-06-17T01:06:36.213483Z"
        },
        "id": "dAD4sLBrC0gJ",
        "colab_type": "code",
        "colab": {}
      },
      "source": [
        "df_GPS_inmall = df_GPS_filtered\n",
        "\n",
        "# read geocoding table of engine plan\n",
        "df_geocoding_engine_plan = pd.read_excel(open(root_path+'Merged_Data/GeocodingEnginePlan.xlsx', 'rb'), \n",
        "                                        sheet_name=0, ignore_index=True,\n",
        "                                        converters={'Postal Code': lambda x: str(x)})\n",
        "\n",
        "df_GPS_inmall['Postal Code'] = df_GPS_inmall['Locale'].apply(lambda x: get_postal_code(x))\n",
        "df_GPS_inmall = df_GPS_inmall.merge(df_geocoding_engine_plan, on='Postal Code', how='left')\n",
        "df_GPS_inmall.insert(loc=10, column='In-mall Time', \n",
        "                     value=np.where((df_GPS_inmall['Speed'] == 0) & (df_GPS_inmall['Latitude (generated)'].notnull()), \n",
        "                                    df_GPS_inmall['Travel Time in Seconds']/3600, np.NaN)\n",
        "                    )\n",
        "\n",
        "df_temp = df_GPS_inmall.groupby(['Vehicle ID', 'Date Only']).sum()\n",
        "\n",
        "# # export the concatenated file as csv file\n",
        "# df_temp.to_csv('C://Users/weiru/OneDrive/SMU/Internship/Merged_Data/MergedGPSDataProcessedFilteredInmallTemp.csv', index=True)\n",
        "\n",
        "# # export the concatenated file as csv file\n",
        "# df_GPS_inmall.to_csv('C://Users/weiru/OneDrive/SMU/Internship/Merged_Data/MergedGPSDataProcessedFilteredInmall.csv', index=False)"
      ],
      "execution_count": 0,
      "outputs": []
    },
    {
      "cell_type": "markdown",
      "metadata": {
        "id": "WJS-nGYFC0gM",
        "colab_type": "text"
      },
      "source": [
        "### <font color=green>【GPS Data】Count Trips</font>"
      ]
    },
    {
      "cell_type": "code",
      "metadata": {
        "ExecuteTime": {
          "end_time": "2019-06-17T01:06:42.691159Z",
          "start_time": "2019-06-17T01:06:37.165936Z"
        },
        "id": "wbQtNJjQC0gN",
        "colab_type": "code",
        "colab": {}
      },
      "source": [
        "df_GPS_trip = df_GPS_filtered\n",
        "df_GPS_trip.reset_index(inplace=True)\n",
        "df_GPS_trip = df_GPS_trip.drop(['index'], axis=1)\n",
        "\n",
        "CKL_lat = 1.31582\n",
        "CKL_long = 103.72394\n",
        "GPS_diff_threshold = 0.0025\n",
        "df_GPS_trip['CKL GPS Diff'] = (df_GPS_trip['Lat'] - CKL_lat).abs() + (df_GPS_trip['Long'] - CKL_long).abs()\n",
        "df_GPS_trip.insert(loc=df_GPS_trip.shape[1], column='Trip Marker', \n",
        "                   value=np.where(df_GPS_trip['CKL GPS Diff'] <= GPS_diff_threshold, 0, np.NaN))\n",
        "\n",
        "for i in range(1, df_GPS_trip.shape[0]-1):\n",
        "    if (df_GPS_trip.at[i-1, 'Trip Marker'] == 0) and (df_GPS_trip.at[i, 'Trip Marker'] == 0) and (pd.isnull(df_GPS_trip.at[i+1, 'Trip Marker'])):\n",
        "        df_GPS_trip.at[i, 'Trip Marker'] = 1\n",
        "\n",
        "# export the concatenated file as csv file\n",
        "df_GPS_trip.to_csv(root_path+'Merged_Data/MergedGPSDataProcessedFilteredTrip.csv', index=False)"
      ],
      "execution_count": 0,
      "outputs": []
    },
    {
      "cell_type": "code",
      "metadata": {
        "ExecuteTime": {
          "end_time": "2019-06-17T01:06:42.846758Z",
          "start_time": "2019-06-17T01:06:42.693154Z"
        },
        "id": "xkGxwJKSC0gQ",
        "colab_type": "code",
        "colab": {}
      },
      "source": [
        "df_GPS_trip_summary = df_GPS_trip.groupby(['Date Only', 'Vehicle ID']).sum()['Trip Marker']\n",
        "df_GPS_trip_summary = df_GPS_trip_summary.to_frame()"
      ],
      "execution_count": 0,
      "outputs": []
    },
    {
      "cell_type": "markdown",
      "metadata": {
        "id": "3PvZZ9CZC0gR",
        "colab_type": "text"
      },
      "source": [
        "## <font color=magenta>【GPS Data】Data Analysis</font>"
      ]
    },
    {
      "cell_type": "markdown",
      "metadata": {
        "id": "8H-HWYN5C0gS",
        "colab_type": "text"
      },
      "source": [
        "### <font color=magenta>【GPS Data】Travel Time & Distance</font>"
      ]
    },
    {
      "cell_type": "code",
      "metadata": {
        "ExecuteTime": {
          "end_time": "2019-06-17T01:06:42.918550Z",
          "start_time": "2019-06-17T01:06:42.856737Z"
        },
        "id": "0VCs5K4FC0gW",
        "colab_type": "code",
        "colab": {}
      },
      "source": [
        "# group df_plans by date and standardize units\n",
        "df_plans_dategroup = df_plans.groupby(['Delivery Date']).sum()[['Quantity', 'Engine Time', 'Engine Distance']]\n",
        "df_plans_dategroup['Engine Distance'] = df_plans_dategroup['Engine Distance'] / 1000\n",
        "df_plans_dategroup['Engine Time'] = df_plans_dategroup['Engine Time'] / 60"
      ],
      "execution_count": 0,
      "outputs": []
    },
    {
      "cell_type": "code",
      "metadata": {
        "ExecuteTime": {
          "end_time": "2019-06-17T01:06:43.084108Z",
          "start_time": "2019-06-17T01:06:42.919549Z"
        },
        "id": "GzbcFe3YC0gY",
        "colab_type": "code",
        "colab": {}
      },
      "source": [
        "# group df_GPS_filtered by date and standardize units\n",
        "df_GPS_filtered['Travel Distance'] = df_GPS_filtered['Travel Distance'].astype(float)\n",
        "df_GPS_filtered['Travel Time'] = df_GPS_filtered['Travel Time in Seconds'] / 3600\n",
        "df_GPS_filtered_dategroup = df_GPS_filtered.groupby(['Date Only']).sum()[['Travel Distance', 'Travel Time']]\n",
        "df_GPS_filtered_dategroup.index.names = ['Delivery Date']"
      ],
      "execution_count": 0,
      "outputs": []
    },
    {
      "cell_type": "code",
      "metadata": {
        "ExecuteTime": {
          "end_time": "2019-06-17T01:06:43.099069Z",
          "start_time": "2019-06-17T01:06:43.087100Z"
        },
        "scrolled": false,
        "id": "PjWGIRCoC0ga",
        "colab_type": "code",
        "colab": {}
      },
      "source": [
        "# merge df_plans and df_GPS_filtered_dategroup on date and calculate the saved distance and time\n",
        "df_dategroup = df_plans_dategroup.merge(df_GPS_filtered_dategroup, on='Delivery Date')\n",
        "df_dategroup['Saved Distance'] = df_dategroup['Travel Distance'] - df_dategroup['Engine Distance']\n",
        "df_dategroup['Saved Time'] = df_dategroup['Travel Time'] - df_dategroup['Engine Time']"
      ],
      "execution_count": 0,
      "outputs": []
    },
    {
      "cell_type": "markdown",
      "metadata": {
        "id": "URo-g2VvC0gc",
        "colab_type": "text"
      },
      "source": [
        "### <font color=magenta>【GPS Data】EDA</font>"
      ]
    },
    {
      "cell_type": "code",
      "metadata": {
        "ExecuteTime": {
          "end_time": "2019-06-17T01:06:43.117021Z",
          "start_time": "2019-06-17T01:06:43.102060Z"
        },
        "id": "nfTEPo-vC0gc",
        "colab_type": "code",
        "colab": {}
      },
      "source": [
        "df_dategroup_filtered = df_dategroup.drop(index=pd.to_datetime('2019-01-03'))\n",
        "df_dategroup_filtered = df_dategroup_filtered.drop(index=pd.to_datetime('2019-04-01'))"
      ],
      "execution_count": 0,
      "outputs": []
    },
    {
      "cell_type": "code",
      "metadata": {
        "ExecuteTime": {
          "end_time": "2019-06-17T01:06:43.155915Z",
          "start_time": "2019-06-17T01:06:43.120013Z"
        },
        "scrolled": false,
        "id": "fTdzRlWQC0ge",
        "colab_type": "code",
        "colab": {
          "base_uri": "https://localhost:8080/",
          "height": 264
        },
        "outputId": "748d73a1-0463-4bcc-b8ef-a5a769849de6"
      },
      "source": [
        "df_dategroup_filtered.corr()"
      ],
      "execution_count": 140,
      "outputs": [
        {
          "output_type": "execute_result",
          "data": {
            "text/html": [
              "<div>\n",
              "<style scoped>\n",
              "    .dataframe tbody tr th:only-of-type {\n",
              "        vertical-align: middle;\n",
              "    }\n",
              "\n",
              "    .dataframe tbody tr th {\n",
              "        vertical-align: top;\n",
              "    }\n",
              "\n",
              "    .dataframe thead th {\n",
              "        text-align: right;\n",
              "    }\n",
              "</style>\n",
              "<table border=\"1\" class=\"dataframe\">\n",
              "  <thead>\n",
              "    <tr style=\"text-align: right;\">\n",
              "      <th></th>\n",
              "      <th>Quantity</th>\n",
              "      <th>Engine Time</th>\n",
              "      <th>Engine Distance</th>\n",
              "      <th>Travel Distance</th>\n",
              "      <th>Travel Time</th>\n",
              "      <th>Saved Distance</th>\n",
              "      <th>Saved Time</th>\n",
              "    </tr>\n",
              "  </thead>\n",
              "  <tbody>\n",
              "    <tr>\n",
              "      <th>Quantity</th>\n",
              "      <td>1.000000</td>\n",
              "      <td>0.784597</td>\n",
              "      <td>0.637542</td>\n",
              "      <td>0.250573</td>\n",
              "      <td>0.062418</td>\n",
              "      <td>-0.195918</td>\n",
              "      <td>-0.252181</td>\n",
              "    </tr>\n",
              "    <tr>\n",
              "      <th>Engine Time</th>\n",
              "      <td>0.784597</td>\n",
              "      <td>1.000000</td>\n",
              "      <td>0.486695</td>\n",
              "      <td>0.167887</td>\n",
              "      <td>0.135162</td>\n",
              "      <td>-0.169336</td>\n",
              "      <td>-0.267335</td>\n",
              "    </tr>\n",
              "    <tr>\n",
              "      <th>Engine Distance</th>\n",
              "      <td>0.637542</td>\n",
              "      <td>0.486695</td>\n",
              "      <td>1.000000</td>\n",
              "      <td>0.113946</td>\n",
              "      <td>-0.115609</td>\n",
              "      <td>-0.543163</td>\n",
              "      <td>-0.306519</td>\n",
              "    </tr>\n",
              "    <tr>\n",
              "      <th>Travel Distance</th>\n",
              "      <td>0.250573</td>\n",
              "      <td>0.167887</td>\n",
              "      <td>0.113946</td>\n",
              "      <td>1.000000</td>\n",
              "      <td>0.652611</td>\n",
              "      <td>0.772267</td>\n",
              "      <td>0.567731</td>\n",
              "    </tr>\n",
              "    <tr>\n",
              "      <th>Travel Time</th>\n",
              "      <td>0.062418</td>\n",
              "      <td>0.135162</td>\n",
              "      <td>-0.115609</td>\n",
              "      <td>0.652611</td>\n",
              "      <td>1.000000</td>\n",
              "      <td>0.625469</td>\n",
              "      <td>0.918628</td>\n",
              "    </tr>\n",
              "    <tr>\n",
              "      <th>Saved Distance</th>\n",
              "      <td>-0.195918</td>\n",
              "      <td>-0.169336</td>\n",
              "      <td>-0.543163</td>\n",
              "      <td>0.772267</td>\n",
              "      <td>0.625469</td>\n",
              "      <td>1.000000</td>\n",
              "      <td>0.675815</td>\n",
              "    </tr>\n",
              "    <tr>\n",
              "      <th>Saved Time</th>\n",
              "      <td>-0.252181</td>\n",
              "      <td>-0.267335</td>\n",
              "      <td>-0.306519</td>\n",
              "      <td>0.567731</td>\n",
              "      <td>0.918628</td>\n",
              "      <td>0.675815</td>\n",
              "      <td>1.000000</td>\n",
              "    </tr>\n",
              "  </tbody>\n",
              "</table>\n",
              "</div>"
            ],
            "text/plain": [
              "                 Quantity  Engine Time  ...  Saved Distance  Saved Time\n",
              "Quantity         1.000000     0.784597  ...       -0.195918   -0.252181\n",
              "Engine Time      0.784597     1.000000  ...       -0.169336   -0.267335\n",
              "Engine Distance  0.637542     0.486695  ...       -0.543163   -0.306519\n",
              "Travel Distance  0.250573     0.167887  ...        0.772267    0.567731\n",
              "Travel Time      0.062418     0.135162  ...        0.625469    0.918628\n",
              "Saved Distance  -0.195918    -0.169336  ...        1.000000    0.675815\n",
              "Saved Time      -0.252181    -0.267335  ...        0.675815    1.000000\n",
              "\n",
              "[7 rows x 7 columns]"
            ]
          },
          "metadata": {
            "tags": []
          },
          "execution_count": 140
        }
      ]
    },
    {
      "cell_type": "code",
      "metadata": {
        "ExecuteTime": {
          "end_time": "2019-06-17T01:06:45.508014Z",
          "start_time": "2019-06-17T01:06:43.157911Z"
        },
        "id": "cNhQSYzoC0gh",
        "colab_type": "code",
        "colab": {
          "base_uri": "https://localhost:8080/",
          "height": 893
        },
        "outputId": "b6762bf2-2b2c-477f-e6c6-ea226780c55b"
      },
      "source": [
        "plt.rcParams['figure.figsize'] = (15, 15)\n",
        "plt.rcParams['axes.labelsize'] = 10\n",
        "\n",
        "scatter_matrix(df_dategroup_filtered)\n",
        "plt.show()"
      ],
      "execution_count": 141,
      "outputs": [
        {
          "output_type": "display_data",
          "data": {
            "image/png": "[encoded data removed]",
            "text/plain": [
              "<Figure size 1080x1080 with 49 Axes>"
            ]
          },
          "metadata": {
            "tags": []
          }
        }
      ]
    },
    {
      "cell_type": "code",
      "metadata": {
        "ExecuteTime": {
          "end_time": "2019-06-17T01:06:45.517005Z",
          "start_time": "2019-06-17T01:06:45.510009Z"
        },
        "id": "mAO2cQnUC0gj",
        "colab_type": "code",
        "colab": {}
      },
      "source": [
        "df_dategroup_filtered['Quantity/Engine Distance'] = df_dategroup_filtered['Quantity']/df_dategroup_filtered['Engine Distance']\n",
        "df_dategroup_filtered['Quantity/Travel Distance'] = df_dategroup_filtered['Quantity']/df_dategroup_filtered['Travel Distance']"
      ],
      "execution_count": 0,
      "outputs": []
    },
    {
      "cell_type": "code",
      "metadata": {
        "ExecuteTime": {
          "end_time": "2019-06-17T01:06:46.014683Z",
          "start_time": "2019-06-17T01:06:45.518984Z"
        },
        "id": "BjGOOhcLC0gm",
        "colab_type": "code",
        "colab": {
          "base_uri": "https://localhost:8080/",
          "height": 391
        },
        "outputId": "56db3512-143e-4603-cee0-b3f9feb30ba2"
      },
      "source": [
        "df_dategroup_filtered.plot(y=['Quantity/Engine Distance', 'Quantity/Travel Distance'], subplots=True, figsize=(15, 5))"
      ],
      "execution_count": 143,
      "outputs": [
        {
          "output_type": "execute_result",
          "data": {
            "text/plain": [
              "array([<matplotlib.axes._subplots.AxesSubplot object at 0x7fb37b23cb38>,\n",
              "       <matplotlib.axes._subplots.AxesSubplot object at 0x7fb379618c50>],\n",
              "      dtype=object)"
            ]
          },
          "metadata": {
            "tags": []
          },
          "execution_count": 143
        },
        {
          "output_type": "display_data",
          "data": {
            "image/png": "[encoded data removed]",
            "text/plain": [
              "<Figure size 1080x360 with 2 Axes>"
            ]
          },
          "metadata": {
            "tags": []
          }
        }
      ]
    },
    {
      "cell_type": "code",
      "metadata": {
        "ExecuteTime": {
          "end_time": "2019-06-17T01:06:46.033609Z",
          "start_time": "2019-06-17T01:06:46.016654Z"
        },
        "scrolled": true,
        "id": "iH45pdt4C0gp",
        "colab_type": "code",
        "colab": {
          "base_uri": "https://localhost:8080/",
          "height": 377
        },
        "outputId": "d4515373-31ab-4f83-87c1-5cc7d900d33d"
      },
      "source": [
        "df_dategroup_filtered.corr()"
      ],
      "execution_count": 144,
      "outputs": [
        {
          "output_type": "execute_result",
          "data": {
            "text/html": [
              "<div>\n",
              "<style scoped>\n",
              "    .dataframe tbody tr th:only-of-type {\n",
              "        vertical-align: middle;\n",
              "    }\n",
              "\n",
              "    .dataframe tbody tr th {\n",
              "        vertical-align: top;\n",
              "    }\n",
              "\n",
              "    .dataframe thead th {\n",
              "        text-align: right;\n",
              "    }\n",
              "</style>\n",
              "<table border=\"1\" class=\"dataframe\">\n",
              "  <thead>\n",
              "    <tr style=\"text-align: right;\">\n",
              "      <th></th>\n",
              "      <th>Quantity</th>\n",
              "      <th>Engine Time</th>\n",
              "      <th>Engine Distance</th>\n",
              "      <th>Travel Distance</th>\n",
              "      <th>Travel Time</th>\n",
              "      <th>Saved Distance</th>\n",
              "      <th>Saved Time</th>\n",
              "      <th>Quantity/Engine Distance</th>\n",
              "      <th>Quantity/Travel Distance</th>\n",
              "    </tr>\n",
              "  </thead>\n",
              "  <tbody>\n",
              "    <tr>\n",
              "      <th>Quantity</th>\n",
              "      <td>1.000000</td>\n",
              "      <td>0.784597</td>\n",
              "      <td>0.637542</td>\n",
              "      <td>0.250573</td>\n",
              "      <td>0.062418</td>\n",
              "      <td>-0.195918</td>\n",
              "      <td>-0.252181</td>\n",
              "      <td>0.764553</td>\n",
              "      <td>0.701494</td>\n",
              "    </tr>\n",
              "    <tr>\n",
              "      <th>Engine Time</th>\n",
              "      <td>0.784597</td>\n",
              "      <td>1.000000</td>\n",
              "      <td>0.486695</td>\n",
              "      <td>0.167887</td>\n",
              "      <td>0.135162</td>\n",
              "      <td>-0.169336</td>\n",
              "      <td>-0.267335</td>\n",
              "      <td>0.600054</td>\n",
              "      <td>0.599244</td>\n",
              "    </tr>\n",
              "    <tr>\n",
              "      <th>Engine Distance</th>\n",
              "      <td>0.637542</td>\n",
              "      <td>0.486695</td>\n",
              "      <td>1.000000</td>\n",
              "      <td>0.113946</td>\n",
              "      <td>-0.115609</td>\n",
              "      <td>-0.543163</td>\n",
              "      <td>-0.306519</td>\n",
              "      <td>0.001465</td>\n",
              "      <td>0.476670</td>\n",
              "    </tr>\n",
              "    <tr>\n",
              "      <th>Travel Distance</th>\n",
              "      <td>0.250573</td>\n",
              "      <td>0.167887</td>\n",
              "      <td>0.113946</td>\n",
              "      <td>1.000000</td>\n",
              "      <td>0.652611</td>\n",
              "      <td>0.772267</td>\n",
              "      <td>0.567731</td>\n",
              "      <td>0.233310</td>\n",
              "      <td>-0.484229</td>\n",
              "    </tr>\n",
              "    <tr>\n",
              "      <th>Travel Time</th>\n",
              "      <td>0.062418</td>\n",
              "      <td>0.135162</td>\n",
              "      <td>-0.115609</td>\n",
              "      <td>0.652611</td>\n",
              "      <td>1.000000</td>\n",
              "      <td>0.625469</td>\n",
              "      <td>0.918628</td>\n",
              "      <td>0.173222</td>\n",
              "      <td>-0.384664</td>\n",
              "    </tr>\n",
              "    <tr>\n",
              "      <th>Saved Distance</th>\n",
              "      <td>-0.195918</td>\n",
              "      <td>-0.169336</td>\n",
              "      <td>-0.543163</td>\n",
              "      <td>0.772267</td>\n",
              "      <td>0.625469</td>\n",
              "      <td>1.000000</td>\n",
              "      <td>0.675815</td>\n",
              "      <td>0.196241</td>\n",
              "      <td>-0.714050</td>\n",
              "    </tr>\n",
              "    <tr>\n",
              "      <th>Saved Time</th>\n",
              "      <td>-0.252181</td>\n",
              "      <td>-0.267335</td>\n",
              "      <td>-0.306519</td>\n",
              "      <td>0.567731</td>\n",
              "      <td>0.918628</td>\n",
              "      <td>0.675815</td>\n",
              "      <td>1.000000</td>\n",
              "      <td>-0.070829</td>\n",
              "      <td>-0.613066</td>\n",
              "    </tr>\n",
              "    <tr>\n",
              "      <th>Quantity/Engine Distance</th>\n",
              "      <td>0.764553</td>\n",
              "      <td>0.600054</td>\n",
              "      <td>0.001465</td>\n",
              "      <td>0.233310</td>\n",
              "      <td>0.173222</td>\n",
              "      <td>0.196241</td>\n",
              "      <td>-0.070829</td>\n",
              "      <td>1.000000</td>\n",
              "      <td>0.508341</td>\n",
              "    </tr>\n",
              "    <tr>\n",
              "      <th>Quantity/Travel Distance</th>\n",
              "      <td>0.701494</td>\n",
              "      <td>0.599244</td>\n",
              "      <td>0.476670</td>\n",
              "      <td>-0.484229</td>\n",
              "      <td>-0.384664</td>\n",
              "      <td>-0.714050</td>\n",
              "      <td>-0.613066</td>\n",
              "      <td>0.508341</td>\n",
              "      <td>1.000000</td>\n",
              "    </tr>\n",
              "  </tbody>\n",
              "</table>\n",
              "</div>"
            ],
            "text/plain": [
              "                          Quantity  ...  Quantity/Travel Distance\n",
              "Quantity                  1.000000  ...                  0.701494\n",
              "Engine Time               0.784597  ...                  0.599244\n",
              "Engine Distance           0.637542  ...                  0.476670\n",
              "Travel Distance           0.250573  ...                 -0.484229\n",
              "Travel Time               0.062418  ...                 -0.384664\n",
              "Saved Distance           -0.195918  ...                 -0.714050\n",
              "Saved Time               -0.252181  ...                 -0.613066\n",
              "Quantity/Engine Distance  0.764553  ...                  0.508341\n",
              "Quantity/Travel Distance  0.701494  ...                  1.000000\n",
              "\n",
              "[9 rows x 9 columns]"
            ]
          },
          "metadata": {
            "tags": []
          },
          "execution_count": 144
        }
      ]
    },
    {
      "cell_type": "code",
      "metadata": {
        "ExecuteTime": {
          "end_time": "2019-06-17T01:06:46.047573Z",
          "start_time": "2019-06-17T01:06:46.035606Z"
        },
        "id": "_BvuBwdtC0gt",
        "colab_type": "code",
        "colab": {
          "base_uri": "https://localhost:8080/",
          "height": 35
        },
        "outputId": "14f1a3de-605f-4d4b-ea28-799c6b0f30ca"
      },
      "source": [
        "df_dategroup_filtered[df_dategroup_filtered['Saved Distance'] > 0].count()['Saved Distance']/df_dategroup_filtered.count()['Saved Distance']"
      ],
      "execution_count": 145,
      "outputs": [
        {
          "output_type": "execute_result",
          "data": {
            "text/plain": [
              "0.675"
            ]
          },
          "metadata": {
            "tags": []
          },
          "execution_count": 145
        }
      ]
    },
    {
      "cell_type": "code",
      "metadata": {
        "ExecuteTime": {
          "end_time": "2019-06-17T01:06:46.063530Z",
          "start_time": "2019-06-17T01:06:46.049565Z"
        },
        "id": "Wg65i5-WC0gx",
        "colab_type": "code",
        "colab": {
          "base_uri": "https://localhost:8080/",
          "height": 35
        },
        "outputId": "6abdefb3-d8b2-4cec-92b1-113ab242a3b3"
      },
      "source": [
        "df_dategroup_filtered[df_dategroup_filtered['Saved Time'] > 0].count()['Saved Time']/df_dategroup_filtered.count()['Saved Time']"
      ],
      "execution_count": 146,
      "outputs": [
        {
          "output_type": "execute_result",
          "data": {
            "text/plain": [
              "0.925"
            ]
          },
          "metadata": {
            "tags": []
          },
          "execution_count": 146
        }
      ]
    },
    {
      "cell_type": "code",
      "metadata": {
        "ExecuteTime": {
          "end_time": "2019-06-17T01:06:46.077492Z",
          "start_time": "2019-06-17T01:06:46.065524Z"
        },
        "id": "3OgAiZucC0g0",
        "colab_type": "code",
        "colab": {
          "base_uri": "https://localhost:8080/",
          "height": 35
        },
        "outputId": "45655f91-3738-49da-dc76-0c576f7fb008"
      },
      "source": [
        "df_dategroup_filtered[(df_dategroup_filtered['Saved Distance'] > 0) & (df_dategroup_filtered['Saved Time'] > 0)].count()['Saved Time']/df_dategroup_filtered.count()['Saved Time']"
      ],
      "execution_count": 147,
      "outputs": [
        {
          "output_type": "execute_result",
          "data": {
            "text/plain": [
              "0.6625"
            ]
          },
          "metadata": {
            "tags": []
          },
          "execution_count": 147
        }
      ]
    },
    {
      "cell_type": "code",
      "metadata": {
        "ExecuteTime": {
          "end_time": "2019-06-17T01:06:46.093449Z",
          "start_time": "2019-06-17T01:06:46.080484Z"
        },
        "id": "Jk32JvbYC0g6",
        "colab_type": "code",
        "colab": {
          "base_uri": "https://localhost:8080/",
          "height": 35
        },
        "outputId": "05ec3d03-ad6b-400c-d955-8a6acf1f3221"
      },
      "source": [
        "df_dategroup_filtered[df_dategroup_filtered['Quantity/Engine Distance'] > df_dategroup_filtered['Quantity/Travel Distance']].count()['Quantity/Travel Distance']/df_dategroup_filtered.count()['Quantity/Travel Distance']"
      ],
      "execution_count": 148,
      "outputs": [
        {
          "output_type": "execute_result",
          "data": {
            "text/plain": [
              "0.675"
            ]
          },
          "metadata": {
            "tags": []
          },
          "execution_count": 148
        }
      ]
    },
    {
      "cell_type": "code",
      "metadata": {
        "ExecuteTime": {
          "end_time": "2019-06-17T01:06:46.110402Z",
          "start_time": "2019-06-17T01:06:46.095444Z"
        },
        "scrolled": true,
        "id": "Qn7fJei2C0g9",
        "colab_type": "code",
        "colab": {}
      },
      "source": [
        "df_dategroup_filtered.to_csv(root_path+'Merged_Data/KPI.csv', index=True)"
      ],
      "execution_count": 0,
      "outputs": []
    },
    {
      "cell_type": "markdown",
      "metadata": {
        "id": "U59I7Rk-C0g_",
        "colab_type": "text"
      },
      "source": [
        "### <font color=magenta>【GPS Data】Statistical Tests</font>"
      ]
    },
    {
      "cell_type": "code",
      "metadata": {
        "ExecuteTime": {
          "end_time": "2019-06-17T01:06:46.118382Z",
          "start_time": "2019-06-17T01:06:46.112397Z"
        },
        "id": "mNQbkkn-C0g_",
        "colab_type": "code",
        "colab": {}
      },
      "source": [
        "df_dategroup_filtered.reset_index(inplace=True)\n",
        "df_dategroup_filtered['Delivery Date'] = pd.to_datetime(df_dategroup_filtered['Delivery Date'])"
      ],
      "execution_count": 0,
      "outputs": []
    },
    {
      "cell_type": "code",
      "metadata": {
        "ExecuteTime": {
          "end_time": "2019-06-17T01:06:46.206146Z",
          "start_time": "2019-06-17T01:06:46.121375Z"
        },
        "id": "NhFT_-Q-C0hB",
        "colab_type": "code",
        "colab": {
          "base_uri": "https://localhost:8080/",
          "height": 312
        },
        "outputId": "037ba3b3-c56c-49ca-a770-c02fc9c56acb"
      },
      "source": [
        "df_dategroup_filtered.describe()"
      ],
      "execution_count": 151,
      "outputs": [
        {
          "output_type": "execute_result",
          "data": {
            "text/html": [
              "<div>\n",
              "<style scoped>\n",
              "    .dataframe tbody tr th:only-of-type {\n",
              "        vertical-align: middle;\n",
              "    }\n",
              "\n",
              "    .dataframe tbody tr th {\n",
              "        vertical-align: top;\n",
              "    }\n",
              "\n",
              "    .dataframe thead th {\n",
              "        text-align: right;\n",
              "    }\n",
              "</style>\n",
              "<table border=\"1\" class=\"dataframe\">\n",
              "  <thead>\n",
              "    <tr style=\"text-align: right;\">\n",
              "      <th></th>\n",
              "      <th>Quantity</th>\n",
              "      <th>Engine Time</th>\n",
              "      <th>Engine Distance</th>\n",
              "      <th>Travel Distance</th>\n",
              "      <th>Travel Time</th>\n",
              "      <th>Saved Distance</th>\n",
              "      <th>Saved Time</th>\n",
              "      <th>Quantity/Engine Distance</th>\n",
              "      <th>Quantity/Travel Distance</th>\n",
              "    </tr>\n",
              "  </thead>\n",
              "  <tbody>\n",
              "    <tr>\n",
              "      <th>count</th>\n",
              "      <td>80.000000</td>\n",
              "      <td>80.000000</td>\n",
              "      <td>80.000000</td>\n",
              "      <td>80.000000</td>\n",
              "      <td>80.000000</td>\n",
              "      <td>80.000000</td>\n",
              "      <td>80.000000</td>\n",
              "      <td>80.000000</td>\n",
              "      <td>80.000000</td>\n",
              "    </tr>\n",
              "    <tr>\n",
              "      <th>mean</th>\n",
              "      <td>1392.487500</td>\n",
              "      <td>36.079583</td>\n",
              "      <td>434.014288</td>\n",
              "      <td>475.437500</td>\n",
              "      <td>46.998816</td>\n",
              "      <td>41.423213</td>\n",
              "      <td>10.919233</td>\n",
              "      <td>3.208286</td>\n",
              "      <td>2.989216</td>\n",
              "    </tr>\n",
              "    <tr>\n",
              "      <th>std</th>\n",
              "      <td>300.487915</td>\n",
              "      <td>3.590400</td>\n",
              "      <td>62.369294</td>\n",
              "      <td>82.428925</td>\n",
              "      <td>8.756029</td>\n",
              "      <td>97.533856</td>\n",
              "      <td>9.003370</td>\n",
              "      <td>0.505877</td>\n",
              "      <td>0.728088</td>\n",
              "    </tr>\n",
              "    <tr>\n",
              "      <th>min</th>\n",
              "      <td>827.000000</td>\n",
              "      <td>29.533333</td>\n",
              "      <td>318.334000</td>\n",
              "      <td>310.000000</td>\n",
              "      <td>33.606111</td>\n",
              "      <td>-204.129000</td>\n",
              "      <td>-9.113889</td>\n",
              "      <td>2.077037</td>\n",
              "      <td>1.416096</td>\n",
              "    </tr>\n",
              "    <tr>\n",
              "      <th>25%</th>\n",
              "      <td>1186.000000</td>\n",
              "      <td>33.033333</td>\n",
              "      <td>387.995000</td>\n",
              "      <td>418.000000</td>\n",
              "      <td>40.628194</td>\n",
              "      <td>-10.652750</td>\n",
              "      <td>4.316458</td>\n",
              "      <td>2.841560</td>\n",
              "      <td>2.526697</td>\n",
              "    </tr>\n",
              "    <tr>\n",
              "      <th>50%</th>\n",
              "      <td>1329.500000</td>\n",
              "      <td>35.700000</td>\n",
              "      <td>428.863500</td>\n",
              "      <td>466.500000</td>\n",
              "      <td>45.458889</td>\n",
              "      <td>32.477500</td>\n",
              "      <td>10.645972</td>\n",
              "      <td>3.268227</td>\n",
              "      <td>2.978243</td>\n",
              "    </tr>\n",
              "    <tr>\n",
              "      <th>75%</th>\n",
              "      <td>1601.750000</td>\n",
              "      <td>39.125000</td>\n",
              "      <td>478.637250</td>\n",
              "      <td>536.500000</td>\n",
              "      <td>52.073681</td>\n",
              "      <td>99.086250</td>\n",
              "      <td>17.012639</td>\n",
              "      <td>3.548534</td>\n",
              "      <td>3.341552</td>\n",
              "    </tr>\n",
              "    <tr>\n",
              "      <th>max</th>\n",
              "      <td>2262.000000</td>\n",
              "      <td>44.716667</td>\n",
              "      <td>670.913000</td>\n",
              "      <td>667.000000</td>\n",
              "      <td>68.163056</td>\n",
              "      <td>260.533000</td>\n",
              "      <td>34.861944</td>\n",
              "      <td>4.422083</td>\n",
              "      <td>5.754839</td>\n",
              "    </tr>\n",
              "  </tbody>\n",
              "</table>\n",
              "</div>"
            ],
            "text/plain": [
              "          Quantity  ...  Quantity/Travel Distance\n",
              "count    80.000000  ...                 80.000000\n",
              "mean   1392.487500  ...                  2.989216\n",
              "std     300.487915  ...                  0.728088\n",
              "min     827.000000  ...                  1.416096\n",
              "25%    1186.000000  ...                  2.526697\n",
              "50%    1329.500000  ...                  2.978243\n",
              "75%    1601.750000  ...                  3.341552\n",
              "max    2262.000000  ...                  5.754839\n",
              "\n",
              "[8 rows x 9 columns]"
            ]
          },
          "metadata": {
            "tags": []
          },
          "execution_count": 151
        }
      ]
    },
    {
      "cell_type": "code",
      "metadata": {
        "ExecuteTime": {
          "end_time": "2019-06-17T01:06:46.228089Z",
          "start_time": "2019-06-17T01:06:46.208141Z"
        },
        "scrolled": true,
        "id": "5yuL9BwoC0hC",
        "colab_type": "code",
        "colab": {
          "base_uri": "https://localhost:8080/",
          "height": 228
        },
        "outputId": "b1a0fe4a-bfb8-45fc-cca6-e8227d3d927a"
      },
      "source": [
        "# Shapiro-Wilk Test\n",
        "num_months = len(df_dategroup_filtered['Delivery Date'].dt.month.unique())\n",
        "for i in range(1, num_months+1):\n",
        "    stat, p = stats.shapiro(df_dategroup_filtered[df_dategroup_filtered['Delivery Date'].dt.month == i]['Quantity'])\n",
        "    print('Month {}:'.format(i))\n",
        "    print('Statistics={:.3f}, p={:.3f}'.format(stat, p))\n",
        "    alpha = 0.05\n",
        "    if p > alpha:\n",
        "        print('Sample follows normal distribution (fail to reject H0)')\n",
        "    else:\n",
        "        print('Sample does not follow normal distribution (reject H0)')"
      ],
      "execution_count": 152,
      "outputs": [
        {
          "output_type": "stream",
          "text": [
            "Month 1:\n",
            "Statistics=0.948, p=0.289\n",
            "Sample follows normal distribution (fail to reject H0)\n",
            "Month 2:\n",
            "Statistics=0.957, p=0.459\n",
            "Sample follows normal distribution (fail to reject H0)\n",
            "Month 3:\n",
            "Statistics=0.872, p=0.007\n",
            "Sample does not follow normal distribution (reject H0)\n",
            "Month 4:\n",
            "Statistics=0.931, p=0.312\n",
            "Sample follows normal distribution (fail to reject H0)\n"
          ],
          "name": "stdout"
        }
      ]
    },
    {
      "cell_type": "code",
      "metadata": {
        "ExecuteTime": {
          "end_time": "2019-06-17T01:06:46.240055Z",
          "start_time": "2019-06-17T01:06:46.230083Z"
        },
        "id": "V7iN40AdC0hF",
        "colab_type": "code",
        "colab": {}
      },
      "source": [
        "qty_Jan = df_dategroup_filtered[df_dategroup_filtered['Delivery Date'].dt.month == 1]['Quantity']\n",
        "qty_Feb = df_dategroup_filtered[df_dategroup_filtered['Delivery Date'].dt.month == 2]['Quantity']\n",
        "qty_Mar = df_dategroup_filtered[df_dategroup_filtered['Delivery Date'].dt.month == 3]['Quantity']\n",
        "qty_Apr = df_dategroup_filtered[df_dategroup_filtered['Delivery Date'].dt.month == 4]['Quantity']"
      ],
      "execution_count": 0,
      "outputs": []
    },
    {
      "cell_type": "code",
      "metadata": {
        "ExecuteTime": {
          "end_time": "2019-06-17T01:06:46.251026Z",
          "start_time": "2019-06-17T01:06:46.242052Z"
        },
        "id": "QQcL3S-FC0hH",
        "colab_type": "code",
        "colab": {
          "base_uri": "https://localhost:8080/",
          "height": 52
        },
        "outputId": "5b095947-8228-452a-81c6-e743244693a3"
      },
      "source": [
        "# Bartlett’s test\n",
        "stat, p = stats.bartlett(qty_Jan, qty_Feb, qty_Mar, qty_Apr)\n",
        "print('Statistics={:.3f}, p={:.3f}'.format(stat, p))\n",
        "alpha = 0.05\n",
        "if p > alpha:\n",
        "    print('All samples are from populations with equal variances (fail to reject H0)')\n",
        "else:\n",
        "    print('Not all samples are from populations with equal variances (reject H0)')"
      ],
      "execution_count": 154,
      "outputs": [
        {
          "output_type": "stream",
          "text": [
            "Statistics=3.160, p=0.368\n",
            "All samples are from populations with equal variances (fail to reject H0)\n"
          ],
          "name": "stdout"
        }
      ]
    },
    {
      "cell_type": "code",
      "metadata": {
        "ExecuteTime": {
          "end_time": "2019-06-17T01:06:46.262996Z",
          "start_time": "2019-06-17T01:06:46.252024Z"
        },
        "id": "KeZhL9a_C0hL",
        "colab_type": "code",
        "colab": {
          "base_uri": "https://localhost:8080/",
          "height": 52
        },
        "outputId": "d3f5714b-d0db-4a2b-f352-86bd50b69d17"
      },
      "source": [
        "# one-way ANOVA\n",
        "stat, p = stats.f_oneway(qty_Jan, qty_Feb, qty_Mar, qty_Apr)\n",
        "print('Statistics={:.3f}, p={:.3f}'.format(stat, p))\n",
        "alpha = 0.05\n",
        "if p > alpha:\n",
        "    print('The means of all samples are equal (fail to reject H0)')\n",
        "else:\n",
        "    print('The means of all samples are unequal (reject H0)')"
      ],
      "execution_count": 155,
      "outputs": [
        {
          "output_type": "stream",
          "text": [
            "Statistics=3.589, p=0.017\n",
            "The means of all samples are unequal (reject H0)\n"
          ],
          "name": "stdout"
        }
      ]
    },
    {
      "cell_type": "code",
      "metadata": {
        "ExecuteTime": {
          "end_time": "2019-06-17T01:06:46.278964Z",
          "start_time": "2019-06-17T01:06:46.265992Z"
        },
        "id": "FVswJM1RC0hM",
        "colab_type": "code",
        "colab": {
          "base_uri": "https://localhost:8080/",
          "height": 52
        },
        "outputId": "104cfb89-37ed-4967-e091-7120de278469"
      },
      "source": [
        "# student's t-test\n",
        "stat, p = stats.ttest_ind(qty_Jan, qty_Feb)\n",
        "print('Statistics={:.3f}, p={:.3f}'.format(stat, p))\n",
        "alpha = 0.05\n",
        "if p > alpha:\n",
        "    print('The means of the two samples are equal (fail to reject H0)')\n",
        "else:\n",
        "    print('The means of the two samples are unequal (reject H0)')"
      ],
      "execution_count": 156,
      "outputs": [
        {
          "output_type": "stream",
          "text": [
            "Statistics=2.022, p=0.050\n",
            "The means of the two samples are unequal (reject H0)\n"
          ],
          "name": "stdout"
        }
      ]
    },
    {
      "cell_type": "code",
      "metadata": {
        "ExecuteTime": {
          "end_time": "2019-06-17T01:06:46.301891Z",
          "start_time": "2019-06-17T01:06:46.287939Z"
        },
        "id": "lrqD7_6bC0hO",
        "colab_type": "code",
        "colab": {
          "base_uri": "https://localhost:8080/",
          "height": 52
        },
        "outputId": "9c08bb23-9675-49e6-edd5-60258808aa2e"
      },
      "source": [
        "stat, p = stats.ttest_ind(qty_Jan, qty_Apr)\n",
        "print('Statistics={:.3f}, p={:.3f}'.format(stat, p))\n",
        "alpha = 0.05\n",
        "if p > alpha:\n",
        "    print('The means of the two samples are equal (fail to reject H0)')\n",
        "else:\n",
        "    print('The means of the two samples are unequal (reject H0)')"
      ],
      "execution_count": 157,
      "outputs": [
        {
          "output_type": "stream",
          "text": [
            "Statistics=2.641, p=0.012\n",
            "The means of the two samples are unequal (reject H0)\n"
          ],
          "name": "stdout"
        }
      ]
    },
    {
      "cell_type": "code",
      "metadata": {
        "ExecuteTime": {
          "end_time": "2019-06-17T01:06:46.316852Z",
          "start_time": "2019-06-17T01:06:46.303885Z"
        },
        "id": "etrTCJ_lC0hQ",
        "colab_type": "code",
        "colab": {
          "base_uri": "https://localhost:8080/",
          "height": 52
        },
        "outputId": "1c3c7198-b698-44dd-d0b6-918dce8aa539"
      },
      "source": [
        "stat, p = stats.ttest_ind(qty_Feb, qty_Apr)\n",
        "print('Statistics={:.3f}, p={:.3f}'.format(stat, p))\n",
        "alpha = 0.05\n",
        "if p > alpha:\n",
        "    print('The means of the two samples are equal (fail to reject H0)')\n",
        "else:\n",
        "    print('The means of the two samples are unequal (reject H0)')"
      ],
      "execution_count": 158,
      "outputs": [
        {
          "output_type": "stream",
          "text": [
            "Statistics=0.361, p=0.720\n",
            "The means of the two samples are equal (fail to reject H0)\n"
          ],
          "name": "stdout"
        }
      ]
    },
    {
      "cell_type": "markdown",
      "metadata": {
        "id": "_ZqNqzwmC0hT",
        "colab_type": "text"
      },
      "source": [
        "### <font color=magenta>【GPS Data】Count Trips</font>"
      ]
    },
    {
      "cell_type": "code",
      "metadata": {
        "ExecuteTime": {
          "end_time": "2019-06-17T01:06:46.356743Z",
          "start_time": "2019-06-17T01:06:46.319844Z"
        },
        "id": "_laKUFLnC0hT",
        "colab_type": "code",
        "colab": {}
      },
      "source": [
        "# merge df_plans_trip_summary and df_GPS_trip_summary\n",
        "df_plans_trip_summary = df_plans_trip_summary.reset_index()\n",
        "df_GPS_trip_summary = df_GPS_trip_summary.reset_index()\n",
        "df_GPS_trip_summary = df_GPS_trip_summary.rename(columns={'Date Only': 'Delivery Date'})\n",
        "\n",
        "df_trip_count = df_plans_trip_summary.merge(df_GPS_trip_summary, how='left', suffixes=(' Engine', ' GPS'), \n",
        "                                            left_on=['Delivery Date', 'Vehicle ID'], right_on=['Delivery Date', 'Vehicle ID'])\n",
        "df_trip_count = df_trip_count.merge(df_plans_quantity_vehicle, how='left', \n",
        "                                    left_on=['Delivery Date', 'Vehicle ID'], right_on=['Delivery Date', 'Vehicle ID'])\n",
        "\n",
        "df_trip_count['Quantity/Engine Trip Count'] = df_trip_count['Quantity'] / df_trip_count['Trip Marker Engine']\n",
        "df_trip_count['Quantity/Actual Trip Count'] = df_trip_count['Quantity'] / df_trip_count['Trip Marker GPS']\n",
        "\n",
        "df_trip_count.replace({np.inf: np.NaN, -np.inf: np.NaN}, inplace=True)\n",
        "\n",
        "df_trip_count.to_csv(root_path+'Merged_Data/TripCount.csv', index=False)"
      ],
      "execution_count": 0,
      "outputs": []
    }
  ]
}